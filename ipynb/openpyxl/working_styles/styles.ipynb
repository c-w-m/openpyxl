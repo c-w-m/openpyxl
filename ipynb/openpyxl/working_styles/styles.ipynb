{
 "cells": [
  {
   "cell_type": "markdown",
   "metadata": {},
   "source": [
    "# [Working with styles](https://openpyxl.readthedocs.io/en/stable/styles.html)\n",
    "\n",
    "\n",
    "## Introduction\n",
    "\n",
    "Styles are used to change the look of your data while displayed on screen.\n",
    "They are also used to determine the formatting for numbers.\n",
    "\n",
    "Styles can be applied to the following aspects:\n",
    "\n",
    "   * font to set font size, color, underlining, etc.\n",
    "   * fill to set a pattern or color gradient\n",
    "   * border to set borders on a cell\n",
    "   * cell alignment\n",
    "   * protection\n",
    "\n",
    "The following are the default values"
   ]
  },
  {
   "cell_type": "code",
   "execution_count": null,
   "metadata": {},
   "outputs": [],
   "source": [
    "from openpyxl.styles import PatternFill, Border, Side, Alignment, Protection, Font\n",
    "\n",
    "font = Font(name='Calibri',\n",
    "                size=11,\n",
    "                bold=False,\n",
    "                italic=False,\n",
    "                vertAlign=None,\n",
    "                underline='none',\n",
    "                strike=False,\n",
    "                color='FF000000')\n",
    "fill = PatternFill(fill_type=None,\n",
    "                start_color='FFFFFFFF',\n",
    "                end_color='FF000000')\n",
    "border = Border(left=Side(border_style=None,\n",
    "                          color='FF000000'),\n",
    "                right=Side(border_style=None,\n",
    "                           color='FF000000'),\n",
    "                top=Side(border_style=None,\n",
    "                         color='FF000000'),\n",
    "                bottom=Side(border_style=None,\n",
    "                            color='FF000000'),\n",
    "                diagonal=Side(border_style=None,\n",
    "                              color='FF000000'),\n",
    "                diagonal_direction=0,\n",
    "                outline=Side(border_style=None,\n",
    "                             color='FF000000'),\n",
    "                vertical=Side(border_style=None,\n",
    "                              color='FF000000'),\n",
    "                horizontal=Side(border_style=None,\n",
    "                               color='FF000000')\n",
    "               )\n",
    "alignment=Alignment(horizontal='general',\n",
    "                    vertical='bottom',\n",
    "                    text_rotation=0,\n",
    "                    wrap_text=False,\n",
    "                    shrink_to_fit=False,\n",
    "                    indent=0)\n",
    "number_format = 'General'\n",
    "protection = Protection(locked=True,\n",
    "                        hidden=False)"
   ]
  },
  {
   "cell_type": "markdown",
   "metadata": {},
   "source": [
    "## Cell Styles and Named Styles\n",
    "\n",
    "There are two types of styles: cell styles and named styles, also known as style templates.\n",
    "\n",
    "### Cell Styles\n",
    "\n",
    "Cell styles are shared between objects and once they have been assigned they\n",
    "cannot be changed. This stops unwanted side-effects such as changing the\n",
    "style for lots of cells when only one changes."
   ]
  },
  {
   "cell_type": "code",
   "execution_count": 3,
   "metadata": {},
   "outputs": [],
   "source": [
    "from openpyxl.styles import colors\n",
    "from openpyxl.styles import Font, Color\n",
    "from openpyxl import Workbook\n",
    "\n",
    "wb = Workbook()\n",
    "ws = wb.active\n",
    "\n",
    "a1 = ws['A1']\n",
    "d4 = ws['D4']\n",
    "ft = Font(color=\"FF0000\")\n",
    "a1.font = ft\n",
    "d4.font = ft\n",
    "\n",
    "# a1.font.italic = True # is not allowed # doctest: +SKIP\n",
    "\n",
    "# If you want to change the color of a Font, you need to reassign it::\n",
    "a1.font = Font(color=\"FF0000\", italic=True) # the change only affects A1"
   ]
  },
  {
   "cell_type": "markdown",
   "metadata": {},
   "source": [
    "## Copying styles\n",
    "\n",
    "Styles can also be copied"
   ]
  },
  {
   "cell_type": "code",
   "execution_count": 4,
   "metadata": {},
   "outputs": [
    {
     "data": {
      "text/plain": [
       "'Arial'"
      ]
     },
     "execution_count": 4,
     "metadata": {},
     "output_type": "execute_result"
    }
   ],
   "source": [
    "from openpyxl.styles import Font\n",
    "from copy import copy\n",
    "\n",
    "ft1 = Font(name='Arial', size=14)\n",
    "ft2 = copy(ft1)\n",
    "ft2.name = \"Tahoma\"\n",
    "ft1.name"
   ]
  },
  {
   "cell_type": "code",
   "execution_count": 6,
   "metadata": {},
   "outputs": [
    {
     "data": {
      "text/plain": [
       "'Tahoma'"
      ]
     },
     "execution_count": 6,
     "metadata": {},
     "output_type": "execute_result"
    }
   ],
   "source": [
    "ft2.name"
   ]
  },
  {
   "cell_type": "code",
   "execution_count": 7,
   "metadata": {},
   "outputs": [
    {
     "data": {
      "text/plain": [
       "14.0"
      ]
     },
     "execution_count": 7,
     "metadata": {},
     "output_type": "execute_result"
    }
   ],
   "source": [
    "ft2.size # copied from the"
   ]
  },
  {
   "cell_type": "markdown",
   "metadata": {},
   "source": [
    "## Colours\n",
    "\n",
    "Colours for fonts, backgrounds, borders, etc. can be set in three ways: indexed, aRGB or theme. Indexed colours are the legacy implementation and the colours themselves depend upon the index provided with the workbook or with the application default. Theme colours are useful for complementary shades of colours but also depend upon the theme being present in the workbook. It is, therefore, advisable to use aRGB colours.\n",
    "\n",
    "### aRGB colours\n",
    "\n",
    "RGB colours are set using hexadecimal values for red, green and blue."
   ]
  },
  {
   "cell_type": "code",
   "execution_count": 8,
   "metadata": {},
   "outputs": [],
   "source": [
    "from openpyxl.styles import Font\n",
    "\n",
    "font = Font(color=\"FF0000\")"
   ]
  },
  {
   "cell_type": "markdown",
   "metadata": {},
   "source": [
    "The alpha value refers in theory to the transparency of the colour but this is not relevant for cell styles. The default of 00 will prepended to any simple RGB value:"
   ]
  },
  {
   "cell_type": "code",
   "execution_count": 9,
   "metadata": {},
   "outputs": [
    {
     "data": {
      "text/plain": [
       "'0000FF00'"
      ]
     },
     "execution_count": 9,
     "metadata": {},
     "output_type": "execute_result"
    }
   ],
   "source": [
    "from openpyxl.styles import Font\n",
    "\n",
    "font = Font(color=\"00FF00\")\n",
    "font.color.rgb"
   ]
  },
  {
   "cell_type": "markdown",
   "metadata": {},
   "source": [
    "There is also support for legacy indexed colours as well as themes and tints."
   ]
  },
  {
   "cell_type": "code",
   "execution_count": 11,
   "metadata": {},
   "outputs": [
    {
     "data": {
      "text/plain": [
       "<openpyxl.styles.colors.Color object>\n",
       "Parameters:\n",
       "rgb=None, indexed=None, auto=None, theme=6, tint=0.5, type='theme'"
      ]
     },
     "execution_count": 11,
     "metadata": {},
     "output_type": "execute_result"
    }
   ],
   "source": [
    "from openpyxl.styles.colors import Color\n",
    "\n",
    "c = Color(indexed=32)\n",
    "c = Color(theme=6, tint=0.5)\n",
    "c"
   ]
  },
  {
   "cell_type": "markdown",
   "metadata": {},
   "source": [
    "## Indexed Colours\n",
    "\n",
    "![](colours.png)\n",
    "\n",
    "The indices 64 and 65 cannot be set and are reserved for the system foreground and background colours respectively.\n",
    "\n",
    "## Applying Styles\n",
    "\n",
    "Styles are applied directly to cells"
   ]
  },
  {
   "cell_type": "code",
   "execution_count": 12,
   "metadata": {},
   "outputs": [],
   "source": [
    "from openpyxl.workbook import Workbook\n",
    "from openpyxl.styles import Font, Fill\n",
    "\n",
    "wb = Workbook()\n",
    "ws = wb.active\n",
    "c = ws['A1']\n",
    "c.font = Font(size=12)"
   ]
  },
  {
   "cell_type": "markdown",
   "metadata": {},
   "source": [
    "Styles can also applied to columns and rows but note that this applies only\n",
    "to cells created (in Excel) after the file is closed. If you want to apply\n",
    "styles to entire rows and columns then you must apply the style to each cell\n",
    "yourself. This is a restriction of the file format:"
   ]
  },
  {
   "cell_type": "code",
   "execution_count": 13,
   "metadata": {},
   "outputs": [],
   "source": [
    "col = ws.column_dimensions['A']\n",
    "col.font = Font(bold=True)\n",
    "row = ws.row_dimensions[1]\n",
    "row.font = Font(underline=\"single\")"
   ]
  },
  {
   "cell_type": "markdown",
   "metadata": {},
   "source": [
    "## Styling Merged Cells\n",
    "\n",
    "The merged cell behaves similarly to other cell objects.\n",
    "Its value and format is defined in its top-left cell.\n",
    "In order to change the border of the whole merged cell,\n",
    "change the border of its top-left cell.\n",
    "The formatting is generated for the purpose of writing."
   ]
  },
  {
   "cell_type": "code",
   "execution_count": 14,
   "metadata": {},
   "outputs": [],
   "source": [
    "from openpyxl.styles import Border, Side, PatternFill, Font, GradientFill, Alignment\n",
    "from openpyxl import Workbook\n",
    "\n",
    "wb = Workbook()\n",
    "ws = wb.active\n",
    "ws.merge_cells('B2:F4')\n",
    "\n",
    "top_left_cell = ws['B2']\n",
    "top_left_cell.value = \"My Cell\"\n",
    "\n",
    "thin = Side(border_style=\"thin\", color=\"000000\")\n",
    "double = Side(border_style=\"double\", color=\"ff0000\")\n",
    "\n",
    "top_left_cell.border = Border(top=double, left=thin, right=thin, bottom=double)\n",
    "top_left_cell.fill = PatternFill(\"solid\", fgColor=\"DDDDDD\")\n",
    "top_left_cell.fill = fill = GradientFill(stop=(\"000000\", \"FFFFFF\"))\n",
    "top_left_cell.font  = Font(b=True, color=\"FF0000\")\n",
    "top_left_cell.alignment = Alignment(horizontal=\"center\", vertical=\"center\")\n",
    "\n",
    "wb.save(\"styled.xlsx\")"
   ]
  },
  {
   "cell_type": "markdown",
   "metadata": {},
   "source": [
    "## Edit Page Setup"
   ]
  },
  {
   "cell_type": "code",
   "execution_count": 15,
   "metadata": {},
   "outputs": [],
   "source": [
    "from openpyxl.workbook import Workbook\n",
    "\n",
    "wb = Workbook()\n",
    "ws = wb.active\n",
    "\n",
    "ws.page_setup.orientation = ws.ORIENTATION_LANDSCAPE\n",
    "ws.page_setup.paperSize = ws.PAPERSIZE_TABLOID\n",
    "ws.page_setup.fitToHeight = 0\n",
    "ws.page_setup.fitToWidth = 1"
   ]
  },
  {
   "cell_type": "markdown",
   "metadata": {},
   "source": [
    "### Named Styles\n",
    "\n",
    "In contrast to Cell Styles, Named Styles are mutable. They make sense when\n",
    "you want to apply formatting to lots of different cells at once. NB. once you\n",
    "have assigned a named style to a cell, additional changes to the style will\n",
    "**not** affect the cell.\n",
    "\n",
    "Once a named style has been registered with a workbook, it can be referred to simply by name.\n",
    "\n",
    "\n",
    "## Creating a Named Style"
   ]
  },
  {
   "cell_type": "code",
   "execution_count": 16,
   "metadata": {},
   "outputs": [],
   "source": [
    "from openpyxl.styles import NamedStyle, Font, Border, Side\n",
    "\n",
    "highlight = NamedStyle(name=\"highlight\")\n",
    "highlight.font = Font(bold=True, size=20)\n",
    "bd = Side(style='thick', color=\"000000\")\n",
    "highlight.border = Border(left=bd, top=bd, right=bd, bottom=bd)"
   ]
  },
  {
   "cell_type": "markdown",
   "metadata": {},
   "source": [
    "Once a named style has been created, it can be registered with the workbook:"
   ]
  },
  {
   "cell_type": "code",
   "execution_count": 17,
   "metadata": {},
   "outputs": [],
   "source": [
    "wb.add_named_style(highlight)"
   ]
  },
  {
   "cell_type": "markdown",
   "metadata": {},
   "source": [
    "But named styles will also be registered automatically the first time they are assigned to a cell:"
   ]
  },
  {
   "cell_type": "code",
   "execution_count": 18,
   "metadata": {},
   "outputs": [],
   "source": [
    "ws['A1'].style = highlight"
   ]
  },
  {
   "cell_type": "markdown",
   "metadata": {},
   "source": [
    "Once registered, assign the style using just the name:"
   ]
  },
  {
   "cell_type": "code",
   "execution_count": 19,
   "metadata": {},
   "outputs": [],
   "source": [
    "ws['D5'].style = 'highlight'"
   ]
  },
  {
   "cell_type": "markdown",
   "metadata": {},
   "source": [
    "## Using builtin styles\n",
    "\n",
    "The specification includes some builtin styles which can also be used.\n",
    "Unfortunately, the names for these styles are stored in their localised\n",
    "forms. openpyxl will only recognise the English names and only exactly as\n",
    "written here. These are as follows:\n",
    "\n",
    "\n",
    "* 'Normal' # same as no style\n",
    "\n",
    "### Number formats\n",
    "\n",
    "* 'Comma'\n",
    "* 'Comma [0]'\n",
    "* 'Currency'\n",
    "* 'Currency [0]'\n",
    "* 'Percent'\n",
    "\n",
    "### Informative\n",
    "\n",
    "* 'Calculation'\n",
    "* 'Total'\n",
    "* 'Note'\n",
    "* 'Warning Text'\n",
    "* 'Explanatory Text'\n",
    "\n",
    "### Text styles\n",
    "\n",
    "* 'Title'\n",
    "* 'Headline 1'\n",
    "* 'Headline 2'\n",
    "* 'Headline 3'\n",
    "* 'Headline 4'\n",
    "* 'Hyperlink'\n",
    "* 'Followed Hyperlink'\n",
    "* 'Linked Cell'\n",
    "\n",
    "### Comparisons\n",
    "\n",
    "* 'Input'\n",
    "* 'Output'\n",
    "* 'Check Cell'\n",
    "* 'Good'\n",
    "* 'Bad'\n",
    "* 'Neutral'\n",
    "\n",
    "### Highlights\n",
    "\n",
    "* 'Accent1'\n",
    "  * '20 % - Accent1'\n",
    "  * '40 % - Accent1'\n",
    "  * '60 % - Accent1'\n",
    "* 'Accent2'\n",
    "  * '20 % - Accent2'\n",
    "  * '40 % - Accent2'\n",
    "  * '60 % - Accent2'\n",
    "* 'Accent3'\n",
    "  * '20 % - Accent3'\n",
    "  * '40 % - Accent3'\n",
    "  * '60 % - Accent3'\n",
    "* 'Accent4'\n",
    "  * '20 % - Accent4'\n",
    "  * '40 % - Accent4'\n",
    "  * '60 % - Accent4'\n",
    "* 'Accent5'\n",
    "  * '20 % - Accent5'\n",
    "  * '40 % - Accent5'\n",
    "  * '60 % - Accent5'\n",
    "* 'Accent6'\n",
    "  * '20 % - Accent6'\n",
    "  * '40 % - Accent6'\n",
    "  * '60 % - Accent6'\n",
    "* 'Pandas'\n",
    "\n",
    "For more information about the builtin styles please refer to the `openpyxl.styles.builtins`\n",
    "\n",
    "---"
   ]
  }
 ],
 "metadata": {
  "kernelspec": {
   "display_name": "Python 3.10.4 64-bit",
   "language": "python",
   "name": "python3"
  },
  "language_info": {
   "codemirror_mode": {
    "name": "ipython",
    "version": 3
   },
   "file_extension": ".py",
   "mimetype": "text/x-python",
   "name": "python",
   "nbconvert_exporter": "python",
   "pygments_lexer": "ipython3",
   "version": "3.10.4"
  },
  "orig_nbformat": 4,
  "vscode": {
   "interpreter": {
    "hash": "949777d72b0d2535278d3dc13498b2535136f6dfe0678499012e853ee9abcab1"
   }
  }
 },
 "nbformat": 4,
 "nbformat_minor": 2
}
