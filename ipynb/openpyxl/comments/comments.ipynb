{
 "cells": [
  {
   "cell_type": "markdown",
   "metadata": {},
   "source": [
    "# [Comments](https://openpyxl.readthedocs.io/en/stable/comments.html)\n",
    "\n",
    "\n",
    ">  Warning:\n",
    ">\n",
    ">   Openpyxl currently supports the reading and writing of comment text only.\n",
    ">   Formatting information is lost. Comment dimensions are lost upon reading,\n",
    ">   but can be written. Comments are not currently supported if\n",
    ">   `read_only=True` is used.\n",
    "\n",
    "\n",
    "## Adding a comment to a cell\n",
    "\n",
    "Comments have a text attribute and an author attribute, which must both be set"
   ]
  },
  {
   "cell_type": "code",
   "execution_count": 1,
   "metadata": {},
   "outputs": [
    {
     "data": {
      "text/plain": [
       "'This is the comment text'"
      ]
     },
     "execution_count": 1,
     "metadata": {},
     "output_type": "execute_result"
    }
   ],
   "source": [
    "from openpyxl import Workbook\n",
    "from openpyxl.comments import Comment\n",
    "\n",
    "wb = Workbook()\n",
    "ws = wb.active\n",
    "comment = ws[\"A1\"].comment\n",
    "comment = Comment('This is the comment text', 'Comment Author')\n",
    "comment.text"
   ]
  },
  {
   "cell_type": "code",
   "execution_count": 2,
   "metadata": {},
   "outputs": [
    {
     "data": {
      "text/plain": [
       "'Comment Author'"
      ]
     },
     "execution_count": 2,
     "metadata": {},
     "output_type": "execute_result"
    }
   ],
   "source": [
    "comment.author"
   ]
  },
  {
   "cell_type": "markdown",
   "metadata": {},
   "source": [
    "If you assign the same comment to multiple cells then openpyxl will automatically create copies"
   ]
  },
  {
   "cell_type": "code",
   "execution_count": 3,
   "metadata": {},
   "outputs": [
    {
     "data": {
      "text/plain": [
       "True"
      ]
     },
     "execution_count": 3,
     "metadata": {},
     "output_type": "execute_result"
    }
   ],
   "source": [
    "from openpyxl import Workbook\n",
    "from openpyxl.comments import Comment\n",
    "\n",
    "wb=Workbook()\n",
    "ws=wb.active\n",
    "comment = Comment(\"Text\", \"Author\")\n",
    "ws[\"A1\"].comment = comment\n",
    "ws[\"B2\"].comment = comment\n",
    "ws[\"A1\"].comment is comment\n",
    "True"
   ]
  },
  {
   "cell_type": "code",
   "execution_count": 4,
   "metadata": {},
   "outputs": [
    {
     "data": {
      "text/plain": [
       "False"
      ]
     },
     "execution_count": 4,
     "metadata": {},
     "output_type": "execute_result"
    }
   ],
   "source": [
    "ws[\"B2\"].comment is comment"
   ]
  },
  {
   "cell_type": "markdown",
   "metadata": {},
   "source": [
    "## Loading and saving comments\n",
    "\n",
    "Comments present in a workbook when loaded are stored in the comment\n",
    "attribute of their respective cells automatically. Formatting information\n",
    "such as font size, bold and italics are lost, as are the original dimensions\n",
    "and position of the comment's container box.\n",
    "\n",
    "Comments remaining in a workbook when it is saved are automatically saved to\n",
    "the workbook file.\n",
    "\n",
    "Comment dimensions can be specified for write-only. Comment dimension are\n",
    "in pixels."
   ]
  },
  {
   "cell_type": "code",
   "execution_count": 5,
   "metadata": {},
   "outputs": [],
   "source": [
    "from openpyxl import Workbook\n",
    "from openpyxl.comments import Comment\n",
    "from openpyxl.utils import units\n",
    "\n",
    "wb=Workbook()\n",
    "ws=wb.active\n",
    "comment = Comment(\"Text\", \"Author\")\n",
    "comment.width = 300\n",
    "comment.height = 50\n",
    "ws[\"A1\"].comment = comment\n",
    "wb.save('commented_book.xlsx')"
   ]
  },
  {
   "cell_type": "markdown",
   "metadata": {},
   "source": [
    "If needed, `openpyxl.utils.units` contains helper functions for converting\n",
    "from other measurements such as mm or points to pixels:"
   ]
  },
  {
   "cell_type": "code",
   "execution_count": 6,
   "metadata": {},
   "outputs": [],
   "source": [
    "from openpyxl import Workbook\n",
    "from openpyxl.comments import Comment\n",
    "from openpyxl.utils import units\n",
    "\n",
    "wb=Workbook()\n",
    "ws=wb.active\n",
    "comment = Comment(\"Text\", \"Author\")\n",
    "comment.width = units.points_to_pixels(300)\n",
    "comment.height = units.points_to_pixels(50)\n",
    "ws[\"A1\"].comment = comment"
   ]
  },
  {
   "cell_type": "markdown",
   "metadata": {},
   "source": [
    "---"
   ]
  }
 ],
 "metadata": {
  "kernelspec": {
   "display_name": "Python 3.10.4 64-bit",
   "language": "python",
   "name": "python3"
  },
  "language_info": {
   "codemirror_mode": {
    "name": "ipython",
    "version": 3
   },
   "file_extension": ".py",
   "mimetype": "text/x-python",
   "name": "python",
   "nbconvert_exporter": "python",
   "pygments_lexer": "ipython3",
   "version": "3.10.4"
  },
  "orig_nbformat": 4,
  "vscode": {
   "interpreter": {
    "hash": "949777d72b0d2535278d3dc13498b2535136f6dfe0678499012e853ee9abcab1"
   }
  }
 },
 "nbformat": 4,
 "nbformat_minor": 2
}
