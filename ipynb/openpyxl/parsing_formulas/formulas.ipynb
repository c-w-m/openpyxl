{
 "cells": [
  {
   "cell_type": "markdown",
   "metadata": {},
   "source": [
    "# [Parsing Formulas](https://openpyxl.readthedocs.io/en/stable/formula.html)\n",
    "\n",
    "\n",
    "`openpyxl` supports limited parsing of formulas embedded in cells. The\n",
    "`openpyxl.formula` package contains a `Tokenizer` class to break\n",
    "formulas into their consitutuent tokens. Usage is as follows:"
   ]
  },
  {
   "cell_type": "code",
   "execution_count": 1,
   "metadata": {},
   "outputs": [
    {
     "name": "stdout",
     "output_type": "stream",
     "text": [
      "         IF(       FUNC     OPEN\n",
      "        $A$1    OPERAND    RANGE\n",
      "           ,        SEP      ARG\n",
      " \"then True\"    OPERAND     TEXT\n",
      "           ,        SEP      ARG\n",
      "        MAX(       FUNC     OPEN\n",
      " DEFAULT_VAL    OPERAND    RANGE\n",
      "           ,        SEP      ARG\n",
      "'Sheet 2'!B1    OPERAND    RANGE\n",
      "           )       FUNC    CLOSE\n",
      "           )       FUNC    CLOSE\n"
     ]
    }
   ],
   "source": [
    "from openpyxl.formula import Tokenizer\n",
    "\n",
    "tok = Tokenizer(\"\"\"=IF($A$1,\"then True\",MAX(DEFAULT_VAL,'Sheet 2'!B1))\"\"\")\n",
    "\n",
    "print(\"\\n\".join(\"%12s%11s%9s\" % (t.value, t.type, t.subtype) for t in tok.items))"
   ]
  },
  {
   "cell_type": "markdown",
   "metadata": {},
   "source": []
  },
  {
   "cell_type": "markdown",
   "metadata": {},
   "source": [
    "As shown above, tokens have three attributes of interest:\n",
    "\n",
    "* ``.value``: The substring of the formula that produced this token\n",
    "\n",
    "* ``.type``: The type of token this represents. Can be one of\n",
    "\n",
    "  - ``Token.LITERAL``: If the cell does not contain a formula, its\n",
    "    value is represented by a single ``LITERAL`` token.\n",
    "\n",
    "  - ``Token.OPERAND``: A generic term for any value in the Excel\n",
    "    formula. (See ``.subtype`` below for more details).\n",
    "\n",
    "  - ``Token.FUNC``: Function calls are broken up into tokens for the\n",
    "    opener (e.g., ``SUM(``), followed by the arguments, followed by\n",
    "    the closer (i.e., ``)``). The function name and opening\n",
    "    parenthesis together form one ``FUNC`` token, and the matching\n",
    "    parenthesis forms another ``FUNC`` token.\n",
    "\n",
    "  - ``Token.ARRAY``: Array literals (enclosed between curly braces)\n",
    "    get two ``ARRAY`` tokens each, one for the opening ``{`` and one\n",
    "    for the closing ``}``.\n",
    "\n",
    "  - ``Token.PAREN``: When used for grouping subexpressions (and not to\n",
    "    denote function calls), parentheses are tokenized as ``PAREN``\n",
    "    tokens (one per character).\n",
    "\n",
    "  - ``Token.SEP``: These tokens are created from either commas (``,``)\n",
    "    or semicolons (``;``). Commas create ``SEP`` tokens when they are\n",
    "    used to separate function arguments (e.g., ``SUM(a,b)``) or when\n",
    "    they are used to separate array elements (e.g., ``{a,b}``). (They\n",
    "    have another use as an infix operator for joining\n",
    "    ranges). Semicolons are always used to separate rows in an array\n",
    "    literal, so always create ``SEP`` tokens.\n",
    "\n",
    "  - ``Token.OP_PRE``: Designates a prefix unary operator. Its value is\n",
    "    always ``+`` or ``-``\n",
    "\n",
    "  - ``Token.OP_IN``: Designates an infix binary operator. Possible\n",
    "    values are ``>=``, ``<=``, ``<>``, ``=``, ``>``, ``<``, ``*``,\n",
    "    ``/``, ``+``, ``-``, ``^``, or ``&``.\n",
    "\n",
    "  - ``Token.OP_POST``: Designates a postfix unary operator. Its value\n",
    "    is always ``%``.\n",
    "\n",
    "  - ``Token.WSPACE``: Created for any whitespace encountered. Its\n",
    "    value is always a single space, regardless of how much whitespace\n",
    "    is found.\n",
    "\n",
    "* ``.subtype``: Some of the token types above use the subtype to\n",
    "  provide additional information about the token. Possible subtypes\n",
    "  are:\n",
    "\n",
    "  + ``Token.TEXT``, ``Token.NUMBER``, ``Token.LOGICAL``,\n",
    "    ``Token.ERROR``, ``Token.RANGE``: these subtypes describe the\n",
    "    various forms of ``OPERAND`` found in formulae. ``LOGICAL`` is\n",
    "    either ``TRUE`` or ``FALSE``, ``RANGE`` is either a named range or\n",
    "    a direct reference to another range. ``TEXT``, ``NUMBER``, and\n",
    "    ``ERROR`` all refer to literal values in the formula\n",
    "\n",
    "  + ``Token.OPEN`` and ``Token.CLOSE``: these two subtypes are used by\n",
    "    ``PAREN``, ``FUNC``, and ``ARRAY``, to describe whether the token\n",
    "    is opening a new subexpression or closing it.\n",
    "\n",
    "  + ``Token.ARG`` and ``Token.ROW``: are used by the ``SEP`` tokens,\n",
    "    to distinguish between the comma and semicolon. Commas produce\n",
    "    tokens of subtype ``ARG`` whereas semicolons produce tokens of\n",
    "    subtype ``ROW``\n",
    "\n",
    "\n",
    "## Translating formulae from one location to another\n",
    "\n",
    "\n",
    "It is possible to translate (in the mathematical sense) formulae from one\n",
    "location to another using the :class:`openpyxl.formulas.translate.Translator`\n",
    "class. For example, there a range of cells ``B2:E7`` with a sum of each\n",
    "row in column ``F``::"
   ]
  },
  {
   "cell_type": "code",
   "execution_count": 2,
   "metadata": {},
   "outputs": [
    {
     "ename": "NameError",
     "evalue": "name 'ws' is not defined",
     "output_type": "error",
     "traceback": [
      "\u001b[0;31m---------------------------------------------------------------------------\u001b[0m",
      "\u001b[0;31mNameError\u001b[0m                                 Traceback (most recent call last)",
      "\u001b[1;32m/workspaces/openpyxl/ipynb/openpyxl/parsing_formulas/formulas.ipynb Cell 5'\u001b[0m in \u001b[0;36m<cell line: 3>\u001b[0;34m()\u001b[0m\n\u001b[1;32m      <a href='vscode-notebook-cell://dev-container%2B633a5c636f64655c676863776d5c6f70656e7079786c/workspaces/openpyxl/ipynb/openpyxl/parsing_formulas/formulas.ipynb#ch0000007vscode-remote?line=0'>1</a>\u001b[0m \u001b[39mfrom\u001b[39;00m \u001b[39mopenpyxl\u001b[39;00m\u001b[39m.\u001b[39;00m\u001b[39mformula\u001b[39;00m\u001b[39m.\u001b[39;00m\u001b[39mtranslate\u001b[39;00m \u001b[39mimport\u001b[39;00m Translator\n\u001b[0;32m----> <a href='vscode-notebook-cell://dev-container%2B633a5c636f64655c676863776d5c6f70656e7079786c/workspaces/openpyxl/ipynb/openpyxl/parsing_formulas/formulas.ipynb#ch0000007vscode-remote?line=2'>3</a>\u001b[0m ws[\u001b[39m'\u001b[39m\u001b[39mF2\u001b[39m\u001b[39m'\u001b[39m] \u001b[39m=\u001b[39m \u001b[39m\"\u001b[39m\u001b[39m=SUM(B2:E2)\u001b[39m\u001b[39m\"\u001b[39m\n\u001b[1;32m      <a href='vscode-notebook-cell://dev-container%2B633a5c636f64655c676863776d5c6f70656e7079786c/workspaces/openpyxl/ipynb/openpyxl/parsing_formulas/formulas.ipynb#ch0000007vscode-remote?line=4'>5</a>\u001b[0m \u001b[39m# move the formula one colum to the right\u001b[39;00m\n\u001b[1;32m      <a href='vscode-notebook-cell://dev-container%2B633a5c636f64655c676863776d5c6f70656e7079786c/workspaces/openpyxl/ipynb/openpyxl/parsing_formulas/formulas.ipynb#ch0000007vscode-remote?line=5'>6</a>\u001b[0m ws[\u001b[39m'\u001b[39m\u001b[39mG2\u001b[39m\u001b[39m'\u001b[39m] \u001b[39m=\u001b[39m Translator(\u001b[39m\"\u001b[39m\u001b[39m=SUM(B2:E2)\u001b[39m\u001b[39m\"\u001b[39m, origin\u001b[39m=\u001b[39m\u001b[39m\"\u001b[39m\u001b[39mF2\u001b[39m\u001b[39m\"\u001b[39m)\u001b[39m.\u001b[39mtranslate_formula(\u001b[39m\"\u001b[39m\u001b[39mG2\u001b[39m\u001b[39m\"\u001b[39m)\n",
      "\u001b[0;31mNameError\u001b[0m: name 'ws' is not defined"
     ]
    }
   ],
   "source": [
    "from openpyxl.formula.translate import Translator\n",
    "\n",
    "ws['F2'] = \"=SUM(B2:E2)\"\n",
    "\n",
    "# move the formula one colum to the right\n",
    "ws['G2'] = Translator(\"=SUM(B2:E2)\", origin=\"F2\").translate_formula(\"G2\")\n",
    "ws['G2'].value"
   ]
  },
  {
   "cell_type": "markdown",
   "metadata": {},
   "source": [
    "    '=SUM(C2:F2)'\n",
    "\n",
    ">  Note:\n",
    ">\n",
    ">   This is limited to the same general restrictions of formulae: `A1`\n",
    ">   cell-references only and no support for defined names.\n",
    "\n",
    "---"
   ]
  }
 ],
 "metadata": {
  "kernelspec": {
   "display_name": "Python 3.10.4 64-bit",
   "language": "python",
   "name": "python3"
  },
  "language_info": {
   "codemirror_mode": {
    "name": "ipython",
    "version": 3
   },
   "file_extension": ".py",
   "mimetype": "text/x-python",
   "name": "python",
   "nbconvert_exporter": "python",
   "pygments_lexer": "ipython3",
   "version": "3.10.4"
  },
  "orig_nbformat": 4,
  "vscode": {
   "interpreter": {
    "hash": "949777d72b0d2535278d3dc13498b2535136f6dfe0678499012e853ee9abcab1"
   }
  }
 },
 "nbformat": 4,
 "nbformat_minor": 2
}
