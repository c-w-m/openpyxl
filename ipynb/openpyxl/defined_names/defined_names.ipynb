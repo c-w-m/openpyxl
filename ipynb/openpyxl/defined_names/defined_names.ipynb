{
 "cells": [
  {
   "cell_type": "markdown",
   "metadata": {},
   "source": [
    "# [Defined Names](https://openpyxl.readthedocs.io/en/stable/defined_names.html)\n",
    "\n",
    "\n",
    "The specification has the following to say about defined names:\n",
    "\n",
    ">    \"Defined names are descriptive text that is used to represents a cell, range\n",
    ">    of cells, formula, or constant value.\"\n",
    "\n",
    "This means they are very loosely defined. They might contain a constant, a\n",
    "formula, a single cell reference, a range of cells or multiple ranges of\n",
    "cells across different worksheets. Or all of the above. They are defined\n",
    "globally for a workbook and accessed from the `defined_names` attribute.\n",
    "\n",
    "\n",
    "Sample use for ranges\n",
    "---------------------\n",
    "\n",
    "Accessing a range called \"my_range\"::"
   ]
  },
  {
   "cell_type": "code",
   "execution_count": 2,
   "metadata": {},
   "outputs": [
    {
     "ename": "KeyError",
     "evalue": "'No definition called my_range'",
     "output_type": "error",
     "traceback": [
      "\u001b[0;31m---------------------------------------------------------------------------\u001b[0m",
      "\u001b[0;31mKeyError\u001b[0m                                  Traceback (most recent call last)",
      "\u001b[1;32m/workspaces/openpyxl/ipynb/openpyxl/defined_names/defined_names.ipynb Cell 2'\u001b[0m in \u001b[0;36m<cell line: 5>\u001b[0;34m()\u001b[0m\n\u001b[1;32m      <a href='vscode-notebook-cell://dev-container%2B633a5c636f64655c676863776d5c6f70656e7079786c/workspaces/openpyxl/ipynb/openpyxl/defined_names/defined_names.ipynb#ch0000001vscode-remote?line=0'>1</a>\u001b[0m \u001b[39mfrom\u001b[39;00m \u001b[39mopenpyxl\u001b[39;00m \u001b[39mimport\u001b[39;00m Workbook\n\u001b[1;32m      <a href='vscode-notebook-cell://dev-container%2B633a5c636f64655c676863776d5c6f70656e7079786c/workspaces/openpyxl/ipynb/openpyxl/defined_names/defined_names.ipynb#ch0000001vscode-remote?line=2'>3</a>\u001b[0m wb \u001b[39m=\u001b[39m Workbook()\n\u001b[0;32m----> <a href='vscode-notebook-cell://dev-container%2B633a5c636f64655c676863776d5c6f70656e7079786c/workspaces/openpyxl/ipynb/openpyxl/defined_names/defined_names.ipynb#ch0000001vscode-remote?line=4'>5</a>\u001b[0m my_range \u001b[39m=\u001b[39m wb\u001b[39m.\u001b[39;49mdefined_names[\u001b[39m'\u001b[39;49m\u001b[39mmy_range\u001b[39;49m\u001b[39m'\u001b[39;49m]\n\u001b[1;32m      <a href='vscode-notebook-cell://dev-container%2B633a5c636f64655c676863776d5c6f70656e7079786c/workspaces/openpyxl/ipynb/openpyxl/defined_names/defined_names.ipynb#ch0000001vscode-remote?line=6'>7</a>\u001b[0m \u001b[39m# if this contains a range of cells then the destinations attribute is not None\u001b[39;00m\n\u001b[1;32m      <a href='vscode-notebook-cell://dev-container%2B633a5c636f64655c676863776d5c6f70656e7079786c/workspaces/openpyxl/ipynb/openpyxl/defined_names/defined_names.ipynb#ch0000001vscode-remote?line=7'>8</a>\u001b[0m dests \u001b[39m=\u001b[39m my_range\u001b[39m.\u001b[39mdestinations \n",
      "File \u001b[0;32m/workspaces/openpyxl/openpyxl/workbook/defined_name.py:231\u001b[0m, in \u001b[0;36mDefinedNameList.__getitem__\u001b[0;34m(self, name)\u001b[0m\n\u001b[1;32m    229\u001b[0m defn \u001b[39m=\u001b[39m \u001b[39mself\u001b[39m\u001b[39m.\u001b[39mget(name)\n\u001b[1;32m    230\u001b[0m \u001b[39mif\u001b[39;00m \u001b[39mnot\u001b[39;00m defn:\n\u001b[0;32m--> 231\u001b[0m     \u001b[39mraise\u001b[39;00m \u001b[39mKeyError\u001b[39;00m(\u001b[39m\"\u001b[39m\u001b[39mNo definition called \u001b[39m\u001b[39m{0}\u001b[39;00m\u001b[39m\"\u001b[39m\u001b[39m.\u001b[39mformat(name))\n\u001b[1;32m    232\u001b[0m \u001b[39mreturn\u001b[39;00m defn\n",
      "\u001b[0;31mKeyError\u001b[0m: 'No definition called my_range'"
     ]
    }
   ],
   "source": [
    "from openpyxl import Workbook\n",
    "\n",
    "wb = Workbook()\n",
    "\n",
    "my_range = wb.defined_names['my_range']\n",
    "\n",
    "# if this contains a range of cells then the destinations attribute is not None\n",
    "dests = my_range.destinations \n",
    "# returns a generator of (worksheet title, cell range) tuples\n",
    "\n",
    "cells = []\n",
    "for title, coord in dests:\n",
    "    ws = wb[title]\n",
    "    cells.append(ws[coord])"
   ]
  },
  {
   "cell_type": "markdown",
   "metadata": {},
   "source": [
    "## Creating new named ranges"
   ]
  },
  {
   "cell_type": "code",
   "execution_count": null,
   "metadata": {},
   "outputs": [
    {
     "name": "stdout",
     "output_type": "stream",
     "text": [
      "['privaterange']\n",
      "Sheet!$A$6\n"
     ]
    }
   ],
   "source": [
    "import openpyxl\n",
    "\n",
    "wb = openpyxl.Workbook()\n",
    "new_range = openpyxl.workbook.defined_name.DefinedName('newrange',\n",
    "                                                       attr_text='Sheet!$A$1:$A$5')\n",
    "wb.defined_names.append(new_range)\n",
    "# create a local named range (only valid for a specific sheet)\n",
    "sheetid = wb.sheetnames.index('Sheet')\n",
    "private_range = openpyxl.workbook.defined_name.DefinedName('privaterange', \n",
    "                                                           attr_text='Sheet!$A$6', \n",
    "                                                           localSheetId=sheetid)\n",
    "wb.defined_names.append(private_range)\n",
    "\n",
    "# this local range can't be retrieved from the global defined names\n",
    "assert('privaterange' not in wb.defined_names)\n",
    "\n",
    "# the scope has to be supplied to retrieve local ranges:\n",
    "print(wb.defined_names.localnames(sheetid))\n",
    "print(wb.defined_names.get('privaterange', sheetid).attr_text)"
   ]
  },
  {
   "cell_type": "markdown",
   "metadata": {},
   "source": [
    "---"
   ]
  }
 ],
 "metadata": {
  "kernelspec": {
   "display_name": "Python 3.10.4 64-bit",
   "language": "python",
   "name": "python3"
  },
  "language_info": {
   "codemirror_mode": {
    "name": "ipython",
    "version": 3
   },
   "file_extension": ".py",
   "mimetype": "text/x-python",
   "name": "python",
   "nbconvert_exporter": "python",
   "pygments_lexer": "ipython3",
   "version": "3.10.4"
  },
  "orig_nbformat": 4,
  "vscode": {
   "interpreter": {
    "hash": "949777d72b0d2535278d3dc13498b2535136f6dfe0678499012e853ee9abcab1"
   }
  }
 },
 "nbformat": 4,
 "nbformat_minor": 2
}
