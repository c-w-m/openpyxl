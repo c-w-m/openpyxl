{
 "cells": [
  {
   "cell_type": "markdown",
   "metadata": {},
   "source": [
    "[Optimised Modes](https://openpyxl.readthedocs.io/en/latest/optimized.html)\n",
    "\n",
    "\n",
    "## Read-only mode\n",
    "\n",
    "Sometimes, you will need to open or write extremely large XLSX files,\n",
    "and the common routines in openpyxl won't be able to handle that load.\n",
    "Fortunately, there are two modes that enable you to read and write unlimited\n",
    "amounts of data with (near) constant memory consumption.\n",
    "\n",
    "Introducing `openpyxl.worksheet._read_only.ReadOnlyWorksheet`::"
   ]
  },
  {
   "cell_type": "code",
   "execution_count": null,
   "metadata": {},
   "outputs": [
    {
     "ename": "",
     "evalue": "",
     "output_type": "error",
     "traceback": [
      "\u001b[1;31mRunning cells with 'Python 3.10.4 64-bit' requires ipykernel package.\n",
      "Run the following command to install 'ipykernel' into the Python environment. \n",
      "Command: 'c:/Users/craigmiller/scoop/apps/python/3.10.4/python.exe -m pip install ipykernel -U --force-reinstall'"
     ]
    }
   ],
   "source": [
    "from openpyxl import load_workbook\n",
    "\n",
    "wb = load_workbook(filename='large_file.xlsx', read_only=True)\n",
    "ws = wb['big_data']\n",
    "\n",
    "for row in ws.rows:\n",
    "    for cell in row:\n",
    "        print(cell.value)\n",
    "\n",
    "# Close the workbook after reading\n",
    "wb.close()"
   ]
  },
  {
   "cell_type": "markdown",
   "metadata": {},
   "source": [
    "> warning:\n",
    ">\n",
    ">   * `openpyxl.worksheet._read_only.ReadOnlyWorksheet` is read-only\n",
    ">\n",
    ">    * Unlike a normal workbook, a read-only workbook will use lazy loading.\n",
    ">     The workbook must be explicitly closed with the :func:`close()` method.\n",
    "\n",
    "Cells returned are not regular `openpyxl.cell.cell.Cell` but\n",
    "`openpyxl.cell._read_only.ReadOnlyCell`.\n",
    "\n",
    "\n",
    "### Worksheet dimensions\n",
    "\n",
    "\n",
    "Read-only mode relies on applications and libraries that created the file\n",
    "providing correct information about the worksheets, specifically the used\n",
    "part of it, known as the dimensions. Some applications set this incorrectly.\n",
    "You can check the apparent dimensions of a worksheet using\n",
    "`ws.calculate_dimension()`. If this returns a range that you know is\n",
    "incorrect, say `A1:A1` then simply resetting the max_row and max_column\n",
    "attributes should allow you to work with the file:"
   ]
  },
  {
   "cell_type": "code",
   "execution_count": null,
   "metadata": {},
   "outputs": [
    {
     "ename": "",
     "evalue": "",
     "output_type": "error",
     "traceback": [
      "\u001b[1;31mRunning cells with 'Python 3.10.4 64-bit' requires ipykernel package.\n",
      "Run the following command to install 'ipykernel' into the Python environment. \n",
      "Command: 'c:/Users/craigmiller/scoop/apps/python/3.10.4/python.exe -m pip install ipykernel -U --force-reinstall'"
     ]
    }
   ],
   "source": [
    "ws.reset_dimensions()"
   ]
  },
  {
   "cell_type": "markdown",
   "metadata": {},
   "source": [
    "## Write-only mode\n",
    "\n",
    "\n",
    "Here again, the regular `openpyxl.worksheet.worksheet.Worksheet` has been replaced\n",
    "by a faster alternative, the `openpyxl.worksheet._write_only.WriteOnlyWorksheet`.\n",
    "When you want to dump large amounts of data make sure you have `lxml` installed."
   ]
  },
  {
   "cell_type": "code",
   "execution_count": null,
   "metadata": {},
   "outputs": [
    {
     "ename": "",
     "evalue": "",
     "output_type": "error",
     "traceback": [
      "\u001b[1;31mRunning cells with 'Python 3.10.4 64-bit' requires ipykernel package.\n",
      "Run the following command to install 'ipykernel' into the Python environment. \n",
      "Command: 'c:/Users/craigmiller/scoop/apps/python/3.10.4/python.exe -m pip install ipykernel -U --force-reinstall'"
     ]
    }
   ],
   "source": [
    "from openpyxl import Workbook\n",
    "\n",
    "wb = Workbook(write_only=True)\n",
    "ws = wb.create_sheet()\n",
    "\n",
    "# now we'll fill it with 100 rows x 200 columns\n",
    "\n",
    "for irow in range(100):\n",
    "    ws.append(['%d' % i for i in range(200)])\n",
    "\n",
    "# save the file\n",
    "wb.save('new_big_file.xlsx') # doctest: +SKIP"
   ]
  },
  {
   "cell_type": "markdown",
   "metadata": {},
   "source": [
    "If you want to have cells with styles or comments then use a `openpyxl.cell.WriteOnlyCell`"
   ]
  },
  {
   "cell_type": "code",
   "execution_count": null,
   "metadata": {},
   "outputs": [
    {
     "ename": "",
     "evalue": "",
     "output_type": "error",
     "traceback": [
      "\u001b[1;31mRunning cells with 'Python 3.10.4 64-bit' requires ipykernel package.\n",
      "Run the following command to install 'ipykernel' into the Python environment. \n",
      "Command: 'c:/Users/craigmiller/scoop/apps/python/3.10.4/python.exe -m pip install ipykernel -U --force-reinstall'"
     ]
    }
   ],
   "source": [
    "from openpyxl import Workbook\n",
    "\n",
    "wb = Workbook(write_only = True)\n",
    "ws = wb.create_sheet()"
   ]
  },
  {
   "cell_type": "code",
   "execution_count": null,
   "metadata": {},
   "outputs": [
    {
     "ename": "",
     "evalue": "",
     "output_type": "error",
     "traceback": [
      "\u001b[1;31mRunning cells with 'Python 3.10.4 64-bit' requires ipykernel package.\n",
      "Run the following command to install 'ipykernel' into the Python environment. \n",
      "Command: 'c:/Users/craigmiller/scoop/apps/python/3.10.4/python.exe -m pip install ipykernel -U --force-reinstall'"
     ]
    }
   ],
   "source": [
    "from openpyxl.cell import WriteOnlyCell\n",
    "from openpyxl.comments import Comment\n",
    "from openpyxl.styles import Font\n",
    "\n",
    "cell = WriteOnlyCell(ws, value=\"hello world\")\n",
    "cell.font = Font(name='Courier', size=36)\n",
    "cell.comment = Comment(text=\"A comment\", author=\"Author's Name\")\n",
    "ws.append([cell, 3.14, None])\n",
    "wb.save('write_only_file.xlsx')"
   ]
  },
  {
   "cell_type": "markdown",
   "metadata": {},
   "source": [
    "This will create a write-only workbook with a single sheet, and append\n",
    "a row of 3 cells: one text cell with a custom font and a comment, a\n",
    "floating-point number, and an empty cell (which will be discarded\n",
    "anyway).\n",
    "\n",
    ">  Warning:\n",
    ">\n",
    ">   * Unlike a normal workbook, a newly-created write-only workbook\n",
    ">     does not contain any worksheets; a worksheet must be specifically\n",
    ">     created with the :func:`create_sheet()` method.\n",
    ">\n",
    ">   * In a write-only workbook, rows can only be added with\n",
    ">     :func:`append()`. It is not possible to write (or read) cells at\n",
    ">     arbitrary locations with :func:`cell()` or :func:`iter_rows()`.\n",
    ">\n",
    ">   * It is able to export unlimited amount of data (even more than Excel can\n",
    ">     handle actually), while keeping memory usage under 10Mb.\n",
    ">\n",
    ">   * A write-only workbook can only be saved once. After\n",
    ">     that, every attempt to save the workbook or append() to an existing\n",
    ">     worksheet will raise an :class:`openpyxl.utils.exceptions.WorkbookAlreadySaved`\n",
    ">     exception.\n",
    ">\n",
    ">   * Everything that appears in the file before the actual cell data must be created\n",
    ">     before cells are added because it must written to the file before then.\n",
    ">     For example, `freeze_panes` should be set before cells are added.\n",
    "\n",
    "---\n"
   ]
  }
 ],
 "metadata": {
  "kernelspec": {
   "display_name": "Python 3.10.4 64-bit",
   "language": "python",
   "name": "python3"
  },
  "language_info": {
   "codemirror_mode": {
    "name": "ipython",
    "version": 3
   },
   "file_extension": ".py",
   "mimetype": "text/x-python",
   "name": "python",
   "nbconvert_exporter": "python",
   "pygments_lexer": "ipython3",
   "version": "3.10.4"
  },
  "orig_nbformat": 4,
  "vscode": {
   "interpreter": {
    "hash": "949777d72b0d2535278d3dc13498b2535136f6dfe0678499012e853ee9abcab1"
   }
  }
 },
 "nbformat": 4,
 "nbformat_minor": 2
}
