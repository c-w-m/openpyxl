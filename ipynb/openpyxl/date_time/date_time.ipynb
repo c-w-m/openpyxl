{
 "cells": [
  {
   "cell_type": "markdown",
   "metadata": {},
   "source": [
    "# [Dates and Times](https://openpyxl.readthedocs.io/en/stable/datetime.html)\n",
    "\n",
    "\n",
    "Dates and times can be stored in two distinct ways in XLSX files: as an\n",
    "ISO 8601 formatted string or as a single number. `openpyxl` supports\n",
    "both representations and translates between them and Python's datetime\n",
    "module representations when reading from and writing to files. In either\n",
    "representation, the maximum date and time precision in XLSX files is\n",
    "millisecond precision.\n",
    "\n",
    "XLSX files are not suitable for storing historic dates (before 1900),\n",
    "due to bugs in Excel that cannot be fixed without causing backward\n",
    "compatibility problems. To discourage users from trying anyway, Excel\n",
    "deliberately refuses to recognize and display such dates. Consequently,\n",
    "it is not advised to use `openpyxl` for such purposes either, especially\n",
    "when exchanging files with others.\n",
    "\n",
    "\n",
    "## Timezones\n",
    "\n",
    "The date and time representations in Excel do not support timezones,\n",
    "therefore `openpyxl` can only deal with naive datetime/time objects.\n",
    "Any timezone information attached to Python datetimes must be stripped\n",
    "off by the user before datetimes can be stored in XLSX files.\n",
    "\n",
    "\n",
    "## Using the ISO 8601 format\n",
    "\n",
    "To make `openpyxl` store dates and times in the ISO 8601 format on\n",
    "writing your file, set the workbook's ``iso_dates`` flag to ``True``:"
   ]
  },
  {
   "cell_type": "code",
   "execution_count": 1,
   "metadata": {},
   "outputs": [],
   "source": [
    "import openpyxl\n",
    "\n",
    "wb = openpyxl.Workbook()\n",
    "wb.iso_dates = True"
   ]
  },
  {
   "cell_type": "markdown",
   "metadata": {},
   "source": [
    "The benefit of using this format is that the meaning of the stored\n",
    "information is not subject to interpretation, as it is with the single\n",
    "number format [#f1]_.\n",
    "\n",
    "The Office Open XML standard does not specify a supported subset of the\n",
    "ISO 8601 duration format for representing time interval durations.\n",
    "`openpyxl` therefore always uses the single number format for timedelta\n",
    "values when writing them to file.\n",
    "\n",
    "\n",
    "## The 1900 and 1904 date systems\n",
    "\n",
    "The 'date system' of an XLSX file determines how dates and times in the\n",
    "single number representation are interpreted. XLSX files always use one\n",
    "of two possible date systems:\n",
    "\n",
    " * In the 1900 date system (the default), the reference date (with number 1) is 1900-01-01.\n",
    " * In the 1904 date system, the reference date (with number 0) is 1904-01-01.\n",
    "\n",
    "Complications arise not only from the different start numbers of the\n",
    "reference dates, but also from the fact that the 1900 date system has a\n",
    "built-in (but wrong) assumption that the year 1900 had been a leap year.\n",
    "Excel deliberately refuses to recognize and display dates before the\n",
    "reference date correctly, in order to discourage people from storing\n",
    "historical data.\n",
    "\n",
    "More information on this issue is available from Microsoft:\n",
    " * https://docs.microsoft.com/en-us/office/troubleshoot/excel/1900-and-1904-date-system\n",
    " * https://docs.microsoft.com/en-us/office/troubleshoot/excel/wrongly-assumes-1900-is-leap-year\n",
    "\n",
    "In workbooks using the 1900 date system, `openpyxl` behaves the same as\n",
    "Excel when translating between the worksheets' date/time numbers and\n",
    "Python datetimes in January and February 1900. The only exception is 29\n",
    "February 1900, which cannot be represented as a Python datetime object\n",
    "since it is not a valid date.\n",
    "\n",
    "You can get the date system of a workbook like this:"
   ]
  },
  {
   "cell_type": "code",
   "execution_count": 2,
   "metadata": {},
   "outputs": [
    {
     "name": "stdout",
     "output_type": "stream",
     "text": [
      "This workbook is using the 1900 date system.\n"
     ]
    }
   ],
   "source": [
    "import openpyxl\n",
    "\n",
    "wb = openpyxl.Workbook()\n",
    "if wb.epoch == openpyxl.utils.datetime.CALENDAR_WINDOWS_1900:\n",
    "    print(\"This workbook is using the 1900 date system.\")"
   ]
  },
  {
   "cell_type": "markdown",
   "metadata": {},
   "source": [
    "and set it like this:"
   ]
  },
  {
   "cell_type": "code",
   "execution_count": 3,
   "metadata": {},
   "outputs": [],
   "source": [
    "wb.epoch = openpyxl.utils.datetime.CALENDAR_MAC_1904"
   ]
  },
  {
   "cell_type": "markdown",
   "metadata": {},
   "source": [
    "## Handling timedelta values\n",
    "\n",
    "Excel users can use number formats resembling ``[h]:mm:ss`` or\n",
    "``[mm]:ss`` to display time interval durations, which `openpyxl`\n",
    "considers to be equivalent to timedeltas in Python.\n",
    "`openpyxl` recognizes these number formats when reading XLSX files and\n",
    "returns datetime.timedelta values for the corresponding cells.\n",
    "\n",
    "When writing timedelta values from worksheet cells to file, `openpyxl`\n",
    "uses the ``[h]:mm:ss`` number format for these cells.\n",
    "\n",
    "*Footnotes*\n",
    "\n",
    "[1] For example, the serial 1 in an Excel worksheet can be\n",
    "    interpreted as 00:00, as 24:00, as 1900-01-01, as 1440\n",
    "    (minutes), etc., depending solely on the formatting applied.\n",
    "\n",
    "\n",
    "---"
   ]
  }
 ],
 "metadata": {
  "kernelspec": {
   "display_name": "Python 3.10.4 64-bit",
   "language": "python",
   "name": "python3"
  },
  "language_info": {
   "codemirror_mode": {
    "name": "ipython",
    "version": 3
   },
   "file_extension": ".py",
   "mimetype": "text/x-python",
   "name": "python",
   "nbconvert_exporter": "python",
   "pygments_lexer": "ipython3",
   "version": "3.10.4"
  },
  "orig_nbformat": 4,
  "vscode": {
   "interpreter": {
    "hash": "949777d72b0d2535278d3dc13498b2535136f6dfe0678499012e853ee9abcab1"
   }
  }
 },
 "nbformat": 4,
 "nbformat_minor": 2
}
