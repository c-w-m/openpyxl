{
 "cells": [
  {
   "cell_type": "markdown",
   "metadata": {},
   "source": [
    "# [Pivot Tables](https://openpyxl.readthedocs.io/en/stable/pivot.html)\n",
    "\n",
    "\n",
    "openpyxl provides read-support for pivot tables so that they will be\n",
    "preserved in existing files. The specification for pivot tables, while\n",
    "extensive, is not very clear and it is not intended that client code should\n",
    "be able to create pivot tables. However, it should be possible to edit and\n",
    "manipulate existing pivot tables, eg. change their ranges or whether they\n",
    "should update automatically settings.\n",
    "\n",
    "As is the case for charts, images and tables there is currently no management\n",
    "API for pivot tables so that client code will have to loop over the\n",
    "``_pivots`` list of a worksheet.\n",
    "\n",
    "\n",
    "## Example\n",
    "\n",
    "```python\n",
    "from openpyxl import load_workbook\n",
    "wb = load_workbook(\"campaign.xlsx\")\n",
    "ws = wb[\"Results\"]\n",
    "pivot = ws._pivots[0] # any will do as they share the same cache\n",
    "pivot.cache.refreshOnLoad = True\n",
    "```\n",
    "For further information see `openpyxl.pivot.cache.CacheDefinition`\n",
    "\n",
    "---"
   ]
  }
 ],
 "metadata": {
  "kernelspec": {
   "display_name": "Python 3.10.4 64-bit",
   "language": "python",
   "name": "python3"
  },
  "language_info": {
   "codemirror_mode": {
    "name": "ipython",
    "version": 3
   },
   "file_extension": ".py",
   "mimetype": "text/x-python",
   "name": "python",
   "nbconvert_exporter": "python",
   "pygments_lexer": "ipython3",
   "version": "3.10.4"
  },
  "orig_nbformat": 4,
  "vscode": {
   "interpreter": {
    "hash": "949777d72b0d2535278d3dc13498b2535136f6dfe0678499012e853ee9abcab1"
   }
  }
 },
 "nbformat": 4,
 "nbformat_minor": 2
}
