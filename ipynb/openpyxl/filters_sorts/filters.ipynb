{
 "cells": [
  {
   "cell_type": "markdown",
   "metadata": {},
   "source": [
    "# [Using filters and sorts](https://openpyxl.readthedocs.io/en/stable/filters.html)\n",
    "\n",
    "\n",
    "It's possible to add a filter to a worksheet.\n",
    "\n",
    ">  Note:\n",
    "> \n",
    "> Filters and sorts can only be configured by openpyxl but will > need to be applied in applications like Excel. This is because > they actually rearranges or format cells or rows in the range.\n",
    "\n",
    "To add a filter you define a range and then add columns and sort conditions:"
   ]
  },
  {
   "cell_type": "code",
   "execution_count": 1,
   "metadata": {},
   "outputs": [],
   "source": [
    "# %load 'filters.py'\n",
    "from openpyxl import Workbook\n",
    "\n",
    "wb = Workbook()\n",
    "ws = wb.active\n",
    "\n",
    "data = [\n",
    "    [\"Fruit\", \"Quantity\"],\n",
    "    [\"Kiwi\", 3],\n",
    "    [\"Grape\", 15],\n",
    "    [\"Apple\", 3],\n",
    "    [\"Peach\", 3],\n",
    "    [\"Pomegranate\", 3],\n",
    "    [\"Pear\", 3],\n",
    "    [\"Tangerine\", 3],\n",
    "    [\"Blueberry\", 3],\n",
    "    [\"Mango\", 3],\n",
    "    [\"Watermelon\", 3],\n",
    "    [\"Blackberry\", 3],\n",
    "    [\"Orange\", 3],\n",
    "    [\"Raspberry\", 3],\n",
    "    [\"Banana\", 3]\n",
    "]\n",
    "\n",
    "for r in data:\n",
    "    ws.append(r)\n",
    "\n",
    "ws.auto_filter.ref = \"A1:B15\"\n",
    "ws.auto_filter.add_filter_column(0, [\"Kiwi\", \"Apple\", \"Mango\"])\n",
    "ws.auto_filter.add_sort_condition(\"B2:B15\")\n",
    "\n",
    "wb.save(\"filtered.xlsx\")\n"
   ]
  },
  {
   "cell_type": "markdown",
   "metadata": {},
   "source": [
    "This will add the relevant instructions to the file but will **neither actually filter nor sort**.\n",
    "\n",
    "![](filters.png)\n",
    "\n",
    "---"
   ]
  }
 ],
 "metadata": {
  "kernelspec": {
   "display_name": "Python 3.10.4 64-bit",
   "language": "python",
   "name": "python3"
  },
  "language_info": {
   "codemirror_mode": {
    "name": "ipython",
    "version": 3
   },
   "file_extension": ".py",
   "mimetype": "text/x-python",
   "name": "python",
   "nbconvert_exporter": "python",
   "pygments_lexer": "ipython3",
   "version": "3.10.4"
  },
  "orig_nbformat": 4,
  "vscode": {
   "interpreter": {
    "hash": "949777d72b0d2535278d3dc13498b2535136f6dfe0678499012e853ee9abcab1"
   }
  }
 },
 "nbformat": 4,
 "nbformat_minor": 2
}
