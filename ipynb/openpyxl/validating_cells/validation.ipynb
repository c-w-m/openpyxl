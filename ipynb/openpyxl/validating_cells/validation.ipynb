{
 "cells": [
  {
   "cell_type": "markdown",
   "metadata": {},
   "source": [
    "# [Validating cells](https://openpyxl.readthedocs.io/en/stable/validation.html)\n",
    "\n",
    "\n",
    "Data validators can be applied to ranges of cells but are not enforced or evaluated. Ranges do not have to be contiguous: eg. \"A1 B2:B5\" is contains A1 and the cells B2 to B5 but not A2 or B2.\n",
    "\n",
    "\n",
    "## Examples"
   ]
  },
  {
   "cell_type": "code",
   "execution_count": 1,
   "metadata": {},
   "outputs": [],
   "source": [
    "from openpyxl import Workbook\n",
    "from openpyxl.worksheet.datavalidation import DataValidation\n",
    "\n",
    "# Create the workbook and worksheet we'll be working with\n",
    "wb = Workbook()\n",
    "ws = wb.active\n",
    "\n",
    "# Create a data-validation object with list validation\n",
    "dv = DataValidation(type=\"list\", formula1='\"Dog,Cat,Bat\"', allow_blank=True)\n",
    "\n",
    "# Optionally set a custom error message\n",
    "dv.error ='Your entry is not in the list'\n",
    "dv.errorTitle = 'Invalid Entry'\n",
    "\n",
    "# Optionally set a custom prompt message\n",
    "dv.prompt = 'Please select from the list'\n",
    "dv.promptTitle = 'List Selection'\n",
    "\n",
    "# Add the data-validation object to the worksheet\n",
    "ws.add_data_validation(dv)"
   ]
  },
  {
   "cell_type": "code",
   "execution_count": 2,
   "metadata": {},
   "outputs": [
    {
     "data": {
      "text/plain": [
       "True"
      ]
     },
     "execution_count": 2,
     "metadata": {},
     "output_type": "execute_result"
    }
   ],
   "source": [
    "# Create some cells, and add them to the data-validation object\n",
    "c1 = ws[\"A1\"]\n",
    "c1.value = \"Dog\"\n",
    "dv.add(c1)\n",
    "c2 = ws[\"A2\"]\n",
    "c2.value = \"An invalid value\"\n",
    "dv.add(c2)\n",
    "\n",
    "# Or, apply the validation to a range of cells\n",
    "dv.add('B1:B1048576') # This is the same as for the whole of column B\n",
    "\n",
    "# Check with a cell is in the validator\n",
    "\"B4\" in dv"
   ]
  },
  {
   "cell_type": "markdown",
   "metadata": {},
   "source": [
    ">   Note :\n",
    ">\n",
    ">   Validations without any cell ranges will be ignored when saving a workbook.\n",
    "\n",
    "## Other validation examples\n",
    "\n",
    "Any whole number:\n",
    "\n",
    "```python\n",
    "dv = DataValidation(type=\"whole\")\n",
    "```\n",
    "\n",
    "Any whole number above 100:\n",
    "\n",
    "```python\n",
    "dv = DataValidation(type=\"whole\",\n",
    "                    operator=\"greaterThan\",\n",
    "                    formula1=100)\n",
    "```\n",
    "\n",
    "Any decimal number:\n",
    "\n",
    "```python\n",
    "dv = DataValidation(type=\"decimal\")\n",
    "```\n",
    "\n",
    "Any decimal number between 0 and 1:\n",
    "\n",
    "```python\n",
    "dv = DataValidation(type=\"decimal\",\n",
    "                    operator=\"between\",\n",
    "                    formula1=0,\n",
    "                    formula2=1)\n",
    "```\n",
    "\n",
    "Any date:\n",
    "\n",
    "```python\n",
    "dv = DataValidation(type=\"date\")\n",
    "```\n",
    "\n",
    "or time:\n",
    "\n",
    "```python\n",
    "dv = DataValidation(type=\"time\")\n",
    "```\n",
    "\n",
    "Any string at most 15 characters:\n",
    "\n",
    "```python\n",
    "dv = DataValidation(type=\"textLength\",\n",
    "                    operator=\"lessThanOrEqual\"),\n",
    "                    formula1=15)\n",
    "```\n",
    "\n",
    "Cell range validation:\n",
    "\n",
    "```python\n",
    "from openpyxl.utils import quote_sheetname\n",
    "dv = DataValidation(type=\"list\",\n",
    "                    formula1=\"{0}!$B$1:$B$10\".format(quote_sheetname(sheetname))\n",
    "                    )\n",
    "```\n",
    "\n",
    "Custom rule:\n",
    "\n",
    "```python\n",
    "dv = DataValidation(type=\"custom\",\n",
    "                    formula1\"=SOMEFORMULA\")\n",
    "```\n",
    "\n",
    ">   Note:\n",
    ">    See http://www.contextures.com/xlDataVal07.html for custom rules\n",
    "\n",
    "---"
   ]
  }
 ],
 "metadata": {
  "kernelspec": {
   "display_name": "Python 3.10.4 64-bit",
   "language": "python",
   "name": "python3"
  },
  "language_info": {
   "codemirror_mode": {
    "name": "ipython",
    "version": 3
   },
   "file_extension": ".py",
   "mimetype": "text/x-python",
   "name": "python",
   "nbconvert_exporter": "python",
   "pygments_lexer": "ipython3",
   "version": "3.10.4"
  },
  "orig_nbformat": 4,
  "vscode": {
   "interpreter": {
    "hash": "949777d72b0d2535278d3dc13498b2535136f6dfe0678499012e853ee9abcab1"
   }
  }
 },
 "nbformat": 4,
 "nbformat_minor": 2
}
