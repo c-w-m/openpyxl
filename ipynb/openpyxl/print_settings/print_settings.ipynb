{
 "cells": [
  {
   "cell_type": "markdown",
   "metadata": {},
   "source": [
    "# [Print Settings](https://openpyxl.readthedocs.io/en/stable/print_settings.html)\n",
    "\n",
    "\n",
    "openpyxl provides reasonably full support for print settings.\n",
    "\n",
    "\n",
    "## Edit Print Options"
   ]
  },
  {
   "cell_type": "code",
   "execution_count": 1,
   "metadata": {},
   "outputs": [],
   "source": [
    "from openpyxl.workbook import Workbook\n",
    "\n",
    "wb = Workbook()\n",
    "ws = wb.active\n",
    "\n",
    "ws.print_options.horizontalCentered = True\n",
    "ws.print_options.verticalCentered = True"
   ]
  },
  {
   "cell_type": "markdown",
   "metadata": {},
   "source": [
    "## Headers and Footers\n",
    "\n",
    "Headers and footers use their own formatting language. This is fully\n",
    "supported when writing them but, due to the complexity and the possibility of\n",
    "nesting, only partially when reading them. There is support for the font,\n",
    "size and color for a left, centre/center, or right element. Granular control\n",
    "(highlighting individuals words) will require applying control codes\n",
    "manually."
   ]
  },
  {
   "cell_type": "code",
   "execution_count": 2,
   "metadata": {},
   "outputs": [],
   "source": [
    "from openpyxl.workbook import Workbook\n",
    "\n",
    "wb = Workbook()\n",
    "\n",
    "ws = wb.active\n",
    "\n",
    "ws.oddHeader.left.text = \"Page &[Page] of &N\"\n",
    "ws.oddHeader.left.size = 14\n",
    "\n",
    "ws.oddHeader.left.font = \"Tahoma,Bold\"\n",
    "\n",
    "ws.oddHeader.left.color = \"CC3366\""
   ]
  },
  {
   "cell_type": "markdown",
   "metadata": {},
   "source": [
    "Also supported are `evenHeader` and `evenFooter` as well as `firstHeader` and `firstFooter`.\n",
    "\n",
    "\n",
    "## Add Print Titles\n",
    "\n",
    "You can print titles on every page to ensure that the data is properly\n",
    "labelled."
   ]
  },
  {
   "cell_type": "code",
   "execution_count": 3,
   "metadata": {},
   "outputs": [],
   "source": [
    "from openpyxl.workbook import Workbook\n",
    "\n",
    "wb = Workbook()\n",
    "ws = wb.active\n",
    "\n",
    "ws.print_title_cols = 'A:B' # the first two cols\n",
    "ws.print_title_rows = '1:1' # the first row"
   ]
  },
  {
   "cell_type": "markdown",
   "metadata": {},
   "source": [
    "## Add a Print Area\n",
    "\n",
    "You can select a part of a worksheet as the only part that you want to print"
   ]
  },
  {
   "cell_type": "code",
   "execution_count": null,
   "metadata": {},
   "outputs": [],
   "source": [
    "from openpyxl.workbook import Workbook\n",
    "\n",
    "wb = Workbook()\n",
    "ws = wb.active\n",
    "\n",
    "ws.print_area = 'A1:F10'"
   ]
  },
  {
   "cell_type": "markdown",
   "metadata": {},
   "source": [
    "---"
   ]
  }
 ],
 "metadata": {
  "kernelspec": {
   "display_name": "Python 3.10.4 64-bit",
   "language": "python",
   "name": "python3"
  },
  "language_info": {
   "codemirror_mode": {
    "name": "ipython",
    "version": 3
   },
   "file_extension": ".py",
   "mimetype": "text/x-python",
   "name": "python",
   "nbconvert_exporter": "python",
   "pygments_lexer": "ipython3",
   "version": "3.10.4"
  },
  "orig_nbformat": 4,
  "vscode": {
   "interpreter": {
    "hash": "949777d72b0d2535278d3dc13498b2535136f6dfe0678499012e853ee9abcab1"
   }
  }
 },
 "nbformat": 4,
 "nbformat_minor": 2
}
