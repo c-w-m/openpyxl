{
 "cells": [
  {
   "cell_type": "markdown",
   "metadata": {},
   "source": [
    "# [Additional Worksheet Properties](https://openpyxl.readthedocs.io/en/stable/worksheet_properties.html)\n",
    "\n",
    "\n",
    "These are advanced properties for particular behaviours, the most used ones\n",
    "are the \"fitTopage\" page setup property and the tabColor that define the\n",
    "background color of the worksheet tab.\n",
    "\n",
    "## Available properties for worksheets\n",
    "\n",
    "* \"enableFormatConditionsCalculation\"\n",
    "* \"filterMode\"\n",
    "* \"published\"\n",
    "* \"syncHorizontal\"\n",
    "* \"syncRef\"\n",
    "* \"syncVertical\"\n",
    "* \"transitionEvaluation\"\n",
    "* \"transitionEntry\"\n",
    "* \"tabColor\"\n",
    "\n",
    "## Available fields for page setup properties\n",
    "\n",
    "\"autoPageBreaks\"\n",
    "\"fitToPage\"\n",
    "\n",
    "## Available fields for outlines\n",
    "\n",
    "* \"applyStyles\"\n",
    "* \"summaryBelow\"\n",
    "* \"summaryRight\"\n",
    "* \"showOutlineSymbols\"\n",
    "\n",
    "see [Microsoft technical documentation](https://docs.microsoft.com/en-us/): Search string: [`spreadsheet sheetproperties`](https://docs.microsoft.com/en-us/search/?terms=spreadsheet%20sheetproperties) for details.\n",
    "\n",
    ">  Note:\n",
    ">\n",
    ">       By default, outline properties are intitialized so you can directly modify each of their 4 attributes, while page setup properties don't.\n",
    ">       If you want modify the latter, you should first initialize a :class:`openpyxl.worksheet.properties.PageSetupProperties` object with the required parameters.\n",
    ">       Once done, they can be directly modified by the routine later if needed."
   ]
  },
  {
   "cell_type": "code",
   "execution_count": 1,
   "metadata": {},
   "outputs": [],
   "source": [
    "from openpyxl.workbook import Workbook\n",
    "from openpyxl.worksheet.properties import WorksheetProperties, PageSetupProperties\n",
    "\n",
    "wb = Workbook()\n",
    "ws = wb.active\n",
    "\n",
    "wsprops = ws.sheet_properties\n",
    "wsprops.tabColor = \"1072BA\"\n",
    "wsprops.filterMode = False\n",
    "wsprops.pageSetUpPr = PageSetupProperties(fitToPage=True, autoPageBreaks=False)\n",
    "wsprops.outlinePr.summaryBelow = False\n",
    "wsprops.outlinePr.applyStyles = True\n",
    "wsprops.pageSetUpPr.autoPageBreaks = True"
   ]
  },
  {
   "cell_type": "markdown",
   "metadata": {},
   "source": [
    "---"
   ]
  }
 ],
 "metadata": {
  "kernelspec": {
   "display_name": "Python 3.10.4 64-bit",
   "language": "python",
   "name": "python3"
  },
  "language_info": {
   "codemirror_mode": {
    "name": "ipython",
    "version": 3
   },
   "file_extension": ".py",
   "mimetype": "text/x-python",
   "name": "python",
   "nbconvert_exporter": "python",
   "pygments_lexer": "ipython3",
   "version": "3.10.4"
  },
  "orig_nbformat": 4,
  "vscode": {
   "interpreter": {
    "hash": "949777d72b0d2535278d3dc13498b2535136f6dfe0678499012e853ee9abcab1"
   }
  }
 },
 "nbformat": 4,
 "nbformat_minor": 2
}
