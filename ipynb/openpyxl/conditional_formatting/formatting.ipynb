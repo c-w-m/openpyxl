{
 "cells": [
  {
   "cell_type": "markdown",
   "metadata": {},
   "source": [
    "# [Conditional Formatting](https://openpyxl.readthedocs.io/en/stable/formatting.html)\n",
    "\n",
    "\n",
    "Excel supports three different types of conditional formatting: builtins, standard and custom. Builtins combine specific rules with predefined styles. Standard conditional formats combine specific rules with custom formatting. In additional it is possible to define custom formulae for applying custom formats using differential styles.\n",
    "\n",
    ">  Note:\n",
    ">\n",
    "> The syntax for the different rules varies so much that it is not\n",
    "> possible for openpyxl to know whether a rule makes sense or not.\n",
    "\n",
    "\n",
    "The basic syntax for creating a formatting rule is:"
   ]
  },
  {
   "cell_type": "code",
   "execution_count": 1,
   "metadata": {},
   "outputs": [],
   "source": [
    "from openpyxl.formatting import Rule\n",
    "from openpyxl.styles import Font, PatternFill, Border\n",
    "from openpyxl.styles.differential import DifferentialStyle\n",
    "\n",
    "dxf = DifferentialStyle(font=Font(bold=True), \n",
    "                        fill=PatternFill(start_color='EE1111', \n",
    "                                         end_color='EE1111')\n",
    "                        )\n",
    "rule = Rule(type='cellIs', dxf=dxf, formula=[\"10\"])"
   ]
  },
  {
   "cell_type": "markdown",
   "metadata": {},
   "source": [
    "Because the signatures for some rules can be quite verbose there are also some convenience factories for creating them.\n",
    "\n",
    "## Builtin formats\n",
    "\n",
    "The builtins conditional formats are:\n",
    "\n",
    "  * ColorScale\n",
    "  * IconSet\n",
    "  * DataBar\n",
    "\n",
    "Builtin formats contain a sequence of formatting settings which combine a type with an integer for comparison. Possible types are: `'num', 'percent', 'max', 'min', 'formula', 'percentile'`.\n",
    "\n",
    "\n",
    "### ColorScale\n",
    "\n",
    "You can have color scales with 2 or 3 colors. 2 color scales produce a gradient from one color to another; 3 color scales use an additional color for 2 gradients.\n",
    "\n",
    "The full syntax for creating a ColorScale rule is:"
   ]
  },
  {
   "cell_type": "code",
   "execution_count": 2,
   "metadata": {},
   "outputs": [],
   "source": [
    "from openpyxl.formatting.rule import ColorScale, FormatObject\n",
    "from openpyxl.styles import Color\n",
    "\n",
    "first = FormatObject(type='min')\n",
    "last = FormatObject(type='max')\n",
    "\n",
    "# colors match the format objects:\n",
    "colors = [Color('AA0000'), Color('00AA00')]\n",
    "cs2 = ColorScale(cfvo=[first, last], color=colors)\n",
    "\n",
    "# a three color scale would extend the sequences\n",
    "mid = FormatObject(type='num', val=40)\n",
    "colors.insert(1, Color('00AA00'))\n",
    "cs3 = ColorScale(cfvo=[first, mid, last], color=colors)"
   ]
  },
  {
   "cell_type": "code",
   "execution_count": 6,
   "metadata": {},
   "outputs": [],
   "source": [
    "# create a rule with the color scale\n",
    "from openpyxl.formatting.rule import Rule\n",
    "\n",
    "rule = Rule(type='colorScale', colorScale=cs3)"
   ]
  },
  {
   "cell_type": "markdown",
   "metadata": {},
   "source": [
    "There is a convenience function for creating ColorScale rules"
   ]
  },
  {
   "cell_type": "code",
   "execution_count": 3,
   "metadata": {},
   "outputs": [],
   "source": [
    "from openpyxl.formatting.rule import ColorScaleRule\n",
    "\n",
    "rule = ColorScaleRule(start_type='percentile', start_value=10, start_color='FFAA0000',\n",
    "                      mid_type='percentile', mid_value=50, mid_color='FF0000AA',\n",
    "                      end_type='percentile', end_value=90, end_color='FF00AA00')"
   ]
  },
  {
   "cell_type": "markdown",
   "metadata": {},
   "source": [
    "### IconSet\n",
    "\n",
    "Choose from the following set of icons: \n",
    "\n",
    "* 3Arrows\n",
    "* 3ArrowsGray\n",
    "* 3Flags\n",
    "* 3TrafficLights1\n",
    "* 3TrafficLights2\n",
    "* 3Signs\n",
    "* 3Symbols\n",
    "* 3Symbols2\n",
    "* 4Arrows\n",
    "* 4ArrowsGray\n",
    "* 4RedToBlack\n",
    "* 4Rating\n",
    "* 4TrafficLights\n",
    "* 5Arrows\n",
    "* 5ArrowsGray\n",
    "* 5Rating \n",
    "* 5Quarters\n",
    "\n",
    "The full syntax for creating an IconSet rule is:"
   ]
  },
  {
   "cell_type": "code",
   "execution_count": 4,
   "metadata": {},
   "outputs": [],
   "source": [
    "from openpyxl.formatting.rule import IconSet, FormatObject\n",
    "first = FormatObject(type='percent', val=0)\n",
    "second = FormatObject(type='percent', val=33)\n",
    "third = FormatObject(type='percent', val=67)\n",
    "iconset = IconSet(iconSet='3TrafficLights1', cfvo=[first, second, third], showValue=None, percent=None, reverse=None)"
   ]
  },
  {
   "cell_type": "code",
   "execution_count": 5,
   "metadata": {},
   "outputs": [],
   "source": [
    "# assign the icon set to a rule\n",
    "from openpyxl.formatting.rule import Rule\n",
    "\n",
    "rule = Rule(type='iconSet', iconSet=iconset)"
   ]
  },
  {
   "cell_type": "markdown",
   "metadata": {},
   "source": [
    "There is a convenience function for creating IconSet rules:"
   ]
  },
  {
   "cell_type": "code",
   "execution_count": 7,
   "metadata": {},
   "outputs": [],
   "source": [
    "from openpyxl.formatting.rule import IconSetRule\n",
    "\n",
    "rule = IconSetRule('5Arrows', 'percent', [10, 20, 30, 40, 50], showValue=None, percent=None, reverse=None)"
   ]
  },
  {
   "cell_type": "markdown",
   "metadata": {},
   "source": [
    "### DataBar\n",
    "\n",
    "Currently, openpyxl supports the DataBars as defined in the original specification. Borders and directions were added in a later extension.\n",
    "\n",
    "The full syntax for creating a DataBar rule is:"
   ]
  },
  {
   "cell_type": "code",
   "execution_count": 8,
   "metadata": {},
   "outputs": [],
   "source": [
    "from openpyxl.formatting.rule import DataBar, FormatObject\n",
    "\n",
    "first = FormatObject(type='min')\n",
    "second = FormatObject(type='max')\n",
    "data_bar = DataBar(cfvo=[first, second], color=\"638EC6\", showValue=None, minLength=None, maxLength=None)"
   ]
  },
  {
   "cell_type": "code",
   "execution_count": 9,
   "metadata": {},
   "outputs": [],
   "source": [
    "# assign the data bar to a rule\n",
    "from openpyxl.formatting.rule import Rule\n",
    "\n",
    "rule = Rule(type='dataBar', dataBar=data_bar)"
   ]
  },
  {
   "cell_type": "markdown",
   "metadata": {},
   "source": [
    "There is a convenience function for creating DataBar rules:"
   ]
  },
  {
   "cell_type": "code",
   "execution_count": 10,
   "metadata": {},
   "outputs": [],
   "source": [
    "from openpyxl.formatting.rule import DataBarRule\n",
    "\n",
    "rule = DataBarRule(start_type='percentile', \n",
    "                   start_value=10, \n",
    "                   end_type='percentile', \n",
    "                   end_value='90',\n",
    "                   color=\"FF638EC6\", \n",
    "                   showValue=\"None\", \n",
    "                   minLength=None, \n",
    "                   maxLength=None\n",
    "                   )\n"
   ]
  },
  {
   "cell_type": "markdown",
   "metadata": {},
   "source": [
    "## Standard conditional formats\n",
    "\n",
    "The standard conditional formats are:\n",
    "\n",
    "  * Average\n",
    "  * Percent\n",
    "  * Unique or duplicate\n",
    "  * Value\n",
    "  * Rank"
   ]
  },
  {
   "cell_type": "code",
   "execution_count": 11,
   "metadata": {},
   "outputs": [],
   "source": [
    "from openpyxl import Workbook\n",
    "from openpyxl.styles import Color, PatternFill, Font, Border\n",
    "from openpyxl.styles.differential import DifferentialStyle\n",
    "from openpyxl.formatting.rule import ColorScaleRule, CellIsRule, FormulaRule\n",
    "\n",
    "wb = Workbook()\n",
    "ws = wb.active\n",
    "\n",
    "# Create fill\n",
    "redFill = PatternFill(start_color='EE1111',\n",
    "               end_color='EE1111',\n",
    "               fill_type='solid')\n",
    "\n",
    "# Add a two-color scale\n",
    "# Takes colors in excel 'RRGGBB' style.\n",
    "ws.conditional_formatting.add('A1:A10',\n",
    "            ColorScaleRule(start_type='min', start_color='AA0000',\n",
    "                           end_type='max', end_color='00AA00')\n",
    "            )\n",
    "\n",
    "# Add a three-color scale\n",
    "ws.conditional_formatting.add('B1:B10',\n",
    "                              ColorScaleRule(start_type='percentile', \n",
    "                                             start_value=10, \n",
    "                                             start_color='AA0000',\n",
    "                                             mid_type='percentile', \n",
    "                                             mid_value=50, \n",
    "                                             mid_color='0000AA',\n",
    "                                             end_type='percentile', \n",
    "                                             end_value=90, \n",
    "                                             end_color='00AA00')\n",
    "                              )\n",
    "\n",
    "# Add a conditional formatting based on a cell comparison\n",
    "# addCellIs(range_string, operator, formula, stopIfTrue, wb, font, border, fill)\n",
    "# Format if cell is less than 'formula'\n",
    "ws.conditional_formatting.add('C2:C10',\n",
    "                              CellIsRule(operator='lessThan', \n",
    "                                         formula=['C$1'], \n",
    "                                         stopIfTrue=True, \n",
    "                                         fill=redFill)\n",
    "                              )\n",
    "\n",
    "# Format if cell is between 'formula'\n",
    "ws.conditional_formatting.add('D2:D10',\n",
    "                              CellIsRule(operator='between', \n",
    "                                         formula=['1','5'], \n",
    "                                         stopIfTrue=True, \n",
    "                                         fill=redFill)\n",
    "                              )\n",
    "\n",
    "# Format using a formula\n",
    "ws.conditional_formatting.add('E1:E10',\n",
    "                              FormulaRule(formula=['ISBLANK(E1)'], \n",
    "                                          stopIfTrue=True, \n",
    "                                          fill=redFill)\n",
    "                              )\n",
    "\n",
    "# Aside from the 2-color and 3-color scales, format rules take fonts, borders and fills for styling:\n",
    "myFont = Font()\n",
    "myBorder = Border()\n",
    "ws.conditional_formatting.add('E1:E10',\n",
    "                              FormulaRule(formula=['E1=0'], \n",
    "                                          font=myFont, \n",
    "                                          border=myBorder, \n",
    "                                          fill=redFill)\n",
    "                              )\n",
    "\n",
    "# Highlight cells that contain particular text by using a special formula\n",
    "red_text = Font(color=\"9C0006\")\n",
    "red_fill = PatternFill(bgColor=\"FFC7CE\")\n",
    "dxf = DifferentialStyle(font=red_text, fill=red_fill)\n",
    "rule = Rule(type=\"containsText\", operator=\"containsText\", text=\"highlight\", dxf=dxf)\n",
    "rule.formula = ['NOT(ISERROR(SEARCH(\"highlight\",A1)))']\n",
    "ws.conditional_formatting.add('A1:F40', rule)\n",
    "wb.save(\"test.xlsx\")"
   ]
  },
  {
   "cell_type": "markdown",
   "metadata": {},
   "source": [
    "## Formatting Entire Rows\n",
    "\n",
    "Sometimes you want to apply a conditional format to more than one cell, say a row of cells which contain a particular value."
   ]
  },
  {
   "cell_type": "code",
   "execution_count": 12,
   "metadata": {},
   "outputs": [],
   "source": [
    "ws.append(['Software', 'Developer', 'Version'])\n",
    "ws.append(['Excel', 'Microsoft', '2016'])\n",
    "ws.append(['openpyxl', 'Open source', '2.6'])\n",
    "ws.append(['OpenOffice', 'Apache', '4.1.4'])\n",
    "ws.append(['Word', 'Microsoft', '2010'])"
   ]
  },
  {
   "cell_type": "markdown",
   "metadata": {},
   "source": [
    "We want to higlight the rows where the developer is Microsoft. We do this by creating an expression rule and using a formula to identify which rows contain software developed by Microsoft."
   ]
  },
  {
   "cell_type": "code",
   "execution_count": 13,
   "metadata": {},
   "outputs": [],
   "source": [
    "red_fill = PatternFill(bgColor=\"FFC7CE\")\n",
    "dxf = DifferentialStyle(fill=red_fill)\n",
    "r = Rule(type=\"expression\", dxf=dxf, stopIfTrue=True)\n",
    "r.formula = ['$A2=\"Microsoft\"']\n",
    "ws.conditional_formatting.add(\"A1:C10\", r)"
   ]
  },
  {
   "cell_type": "markdown",
   "metadata": {},
   "source": [
    ">   Note:\n",
    ">\n",
    ">   The formula uses an **absolute** reference to the column referred to, ``B`` in this case; but a **relative** row number, in this case ``1`` to the range over which the format is applied. It can be tricky to get this right but the rule can be adjusted even after it has been added to the worksheet's condidtional format collection.\n",
    "\n",
    "---"
   ]
  }
 ],
 "metadata": {
  "kernelspec": {
   "display_name": "Python 3.10.4 64-bit",
   "language": "python",
   "name": "python3"
  },
  "language_info": {
   "codemirror_mode": {
    "name": "ipython",
    "version": 3
   },
   "file_extension": ".py",
   "mimetype": "text/x-python",
   "name": "python",
   "nbconvert_exporter": "python",
   "pygments_lexer": "ipython3",
   "version": "3.10.4"
  },
  "orig_nbformat": 4,
  "vscode": {
   "interpreter": {
    "hash": "949777d72b0d2535278d3dc13498b2535136f6dfe0678499012e853ee9abcab1"
   }
  }
 },
 "nbformat": 4,
 "nbformat_minor": 2
}
