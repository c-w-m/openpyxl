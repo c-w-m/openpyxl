{
 "cells": [
  {
   "cell_type": "markdown",
   "metadata": {},
   "source": [
    "## [Surface charts](https://openpyxl.readthedocs.io/en/stable/charts/surface.html)\n",
    "==============\n",
    "\n",
    "\n",
    "Data that is arranged in columns or rows on a worksheet can be plotted in a\n",
    "surface chart. A surface chart is useful when you want to find optimum\n",
    "combinations between two sets of data. As in a topographic map, colors and\n",
    "patterns indicate areas that are in the same range of values.\n",
    "\n",
    "By default all surface charts are 3D. 2D wireframe and contour charts are\n",
    "created by setting the rotation and perspective."
   ]
  },
  {
   "cell_type": "code",
   "execution_count": 1,
   "metadata": {},
   "outputs": [],
   "source": [
    "# %load 'surface.py'\n",
    "from openpyxl import Workbook\n",
    "from openpyxl.chart import (\n",
    "    SurfaceChart,\n",
    "    SurfaceChart3D,\n",
    "    Reference,\n",
    "    Series,\n",
    ")\n",
    "from openpyxl.chart.axis import SeriesAxis\n",
    "\n",
    "wb = Workbook()\n",
    "ws = wb.active\n",
    "\n",
    "data = [\n",
    "    [None, 10, 20, 30, 40, 50,],\n",
    "    [0.1, 15, 65, 105, 65, 15,],\n",
    "    [0.2, 35, 105, 170, 105, 35,],\n",
    "    [0.3, 55, 135, 215, 135, 55,],\n",
    "    [0.4, 75, 155, 240, 155, 75,],\n",
    "    [0.5, 80, 190, 245, 190, 80,],\n",
    "    [0.6, 75, 155, 240, 155, 75,],\n",
    "    [0.7, 55, 135, 215, 135, 55,],\n",
    "    [0.8, 35, 105, 170, 105, 35,],\n",
    "    [0.9, 15, 65, 105, 65, 15],\n",
    "]\n",
    "\n",
    "for row in data:\n",
    "    ws.append(row)\n",
    "\n",
    "\n",
    "c1 = SurfaceChart()\n",
    "ref = Reference(ws, min_col=2, max_col=6, min_row=1, max_row=10)\n",
    "labels = Reference(ws, min_col=1, min_row=2, max_row=10)\n",
    "c1.add_data(ref, titles_from_data=True)\n",
    "c1.set_categories(labels)\n",
    "c1.title = \"Contour\"\n",
    "\n",
    "ws.add_chart(c1, \"A12\")\n",
    "\n",
    "from copy import deepcopy\n",
    "\n",
    "# wireframe\n",
    "c2 = deepcopy(c1)\n",
    "c2.wireframe = True\n",
    "c2.title = \"2D Wireframe\"\n",
    "\n",
    "ws.add_chart(c2, \"G12\")\n",
    "\n",
    "# 3D Surface\n",
    "c3 = SurfaceChart3D()\n",
    "c3.add_data(ref, titles_from_data=True)\n",
    "c3.set_categories(labels)\n",
    "c3.title = \"Surface\"\n",
    "\n",
    "ws.add_chart(c3, \"A29\")\n",
    "\n",
    "c4 = deepcopy(c3)\n",
    "c4.wireframe = True\n",
    "c4.title = \"3D Wireframe\"\n",
    "\n",
    "ws.add_chart(c4, \"G29\")\n",
    "\n",
    "wb.save(\"surface.xlsx\")\n"
   ]
  },
  {
   "cell_type": "markdown",
   "metadata": {},
   "source": [
    "![](surface.py)\n",
    "\n",
    "---"
   ]
  }
 ],
 "metadata": {
  "kernelspec": {
   "display_name": "Python 3.10.4 64-bit",
   "language": "python",
   "name": "python3"
  },
  "language_info": {
   "codemirror_mode": {
    "name": "ipython",
    "version": 3
   },
   "file_extension": ".py",
   "mimetype": "text/x-python",
   "name": "python",
   "nbconvert_exporter": "python",
   "pygments_lexer": "ipython3",
   "version": "3.10.4"
  },
  "orig_nbformat": 4,
  "vscode": {
   "interpreter": {
    "hash": "949777d72b0d2535278d3dc13498b2535136f6dfe0678499012e853ee9abcab1"
   }
  }
 },
 "nbformat": 4,
 "nbformat_minor": 2
}
