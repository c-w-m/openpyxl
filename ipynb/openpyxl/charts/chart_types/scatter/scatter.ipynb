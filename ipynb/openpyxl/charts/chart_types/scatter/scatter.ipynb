{
 "cells": [
  {
   "cell_type": "markdown",
   "metadata": {},
   "source": [
    "# [Scatter Charts](https://openpyxl.readthedocs.io/en/stable/charts/scatter.html)\n",
    "\n",
    "\n",
    "Scatter, or xy, charts are similar to some line charts. The main difference\n",
    "is that one series of values is plotted against another. This is useful where\n",
    "values are unordered."
   ]
  },
  {
   "cell_type": "code",
   "execution_count": 1,
   "metadata": {},
   "outputs": [],
   "source": [
    "# %load 'scatter.py'\n",
    "from openpyxl import Workbook\n",
    "from openpyxl.chart import (\n",
    "    ScatterChart,\n",
    "    Reference,\n",
    "    Series,\n",
    ")\n",
    "\n",
    "wb = Workbook()\n",
    "ws = wb.active\n",
    "\n",
    "rows = [\n",
    "    ['Size', 'Batch 1', 'Batch 2'],\n",
    "    [2, 40, 30],\n",
    "    [3, 40, 25],\n",
    "    [4, 50, 30],\n",
    "    [5, 30, 25],\n",
    "    [6, 25, 35],\n",
    "    [7, 20, 40],\n",
    "]\n",
    "\n",
    "for row in rows:\n",
    "    ws.append(row)\n",
    "\n",
    "chart = ScatterChart()\n",
    "chart.title = \"Scatter Chart\"\n",
    "chart.style = 13\n",
    "chart.x_axis.title = 'Size'\n",
    "chart.y_axis.title = 'Percentage'\n",
    "\n",
    "xvalues = Reference(ws, min_col=1, min_row=2, max_row=7)\n",
    "for i in range(2, 4):\n",
    "    values = Reference(ws, min_col=i, min_row=1, max_row=7)\n",
    "    series = Series(values, xvalues, title_from_data=True)\n",
    "    chart.series.append(series)\n",
    "\n",
    "ws.add_chart(chart, \"A10\")\n",
    "\n",
    "wb.save(\"scatter.xlsx\")\n"
   ]
  },
  {
   "cell_type": "markdown",
   "metadata": {},
   "source": [
    "![](scatter.png)"
   ]
  },
  {
   "cell_type": "markdown",
   "metadata": {},
   "source": [
    ">  Note:\n",
    ">\n",
    ">  The specification says that there are the following types of scatter charts:\n",
    ">  'line', 'lineMarker', 'marker', 'smooth', 'smoothMarker'. However, at least\n",
    ">  in Microsoft Excel, this is just a shortcut for other settings that otherwise\n",
    ">  have no effect. For consistency with line charts, the style for each series \n",
    ">  should be set manually."
   ]
  },
  {
   "cell_type": "markdown",
   "metadata": {},
   "source": [
    "---"
   ]
  }
 ],
 "metadata": {
  "kernelspec": {
   "display_name": "Python 3.10.4 64-bit",
   "language": "python",
   "name": "python3"
  },
  "language_info": {
   "codemirror_mode": {
    "name": "ipython",
    "version": 3
   },
   "file_extension": ".py",
   "mimetype": "text/x-python",
   "name": "python",
   "nbconvert_exporter": "python",
   "pygments_lexer": "ipython3",
   "version": "3.10.4"
  },
  "orig_nbformat": 4,
  "vscode": {
   "interpreter": {
    "hash": "949777d72b0d2535278d3dc13498b2535136f6dfe0678499012e853ee9abcab1"
   }
  }
 },
 "nbformat": 4,
 "nbformat_minor": 2
}
