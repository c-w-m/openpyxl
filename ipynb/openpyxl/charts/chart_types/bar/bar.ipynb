{
 "cells": [
  {
   "cell_type": "markdown",
   "metadata": {},
   "source": [
    "# [Bar and Column Charts](https://openpyxl.readthedocs.io/en/stable/charts/bar.html)\n",
    "\n",
    "\n",
    "In bar charts values are plotted as either horizontal bars or vertical columns.\n",
    "\n",
    "## Vertical, Horizontal and Stacked Bar Charts\n",
    "\n",
    ">  Note:\n",
    ">\n",
    ">  The following settings affect the different chart types.\n",
    ">\n",
    ">  Switch between vertical and horizontal bar charts by setting `type` to\n",
    ">  `col` or `bar` respectively.\n",
    ">\n",
    ">  When using stacked charts the `overlap` needs to be set to 100.\n",
    ">\n",
    ">  If bars are horizontal, x and y axes are reversed.\n",
    "\n",
    "![](bar.png)"
   ]
  },
  {
   "cell_type": "code",
   "execution_count": 1,
   "metadata": {},
   "outputs": [],
   "source": [
    "# %load 'bar.py'\n",
    "from openpyxl import Workbook\n",
    "from openpyxl.chart import BarChart, Series, Reference\n",
    "\n",
    "wb = Workbook(write_only=True)\n",
    "ws = wb.create_sheet()\n",
    "\n",
    "rows = [\n",
    "    ('Number', 'Batch 1', 'Batch 2'),\n",
    "    (2, 10, 30),\n",
    "    (3, 40, 60),\n",
    "    (4, 50, 70),\n",
    "    (5, 20, 10),\n",
    "    (6, 10, 40),\n",
    "    (7, 50, 30),\n",
    "]\n",
    "\n",
    "\n",
    "for row in rows:\n",
    "    ws.append(row)\n",
    "\n",
    "\n",
    "chart1 = BarChart()\n",
    "chart1.type = \"col\"\n",
    "chart1.style = 10\n",
    "chart1.title = \"Bar Chart\"\n",
    "chart1.y_axis.title = 'Test number'\n",
    "chart1.x_axis.title = 'Sample length (mm)'\n",
    "\n",
    "data = Reference(ws, min_col=2, min_row=1, max_row=7, max_col=3)\n",
    "cats = Reference(ws, min_col=1, min_row=2, max_row=7)\n",
    "chart1.add_data(data, titles_from_data=True)\n",
    "chart1.set_categories(cats)\n",
    "chart1.shape = 4\n",
    "ws.add_chart(chart1, \"A10\")\n",
    "\n",
    "from copy import deepcopy\n",
    "\n",
    "chart2 = deepcopy(chart1)\n",
    "chart2.style = 11\n",
    "chart2.type = \"bar\"\n",
    "chart2.title = \"Horizontal Bar Chart\"\n",
    "\n",
    "ws.add_chart(chart2, \"G10\")\n",
    "\n",
    "\n",
    "chart3 = deepcopy(chart1)\n",
    "chart3.type = \"col\"\n",
    "chart3.style = 12\n",
    "chart3.grouping = \"stacked\"\n",
    "chart3.overlap = 100\n",
    "chart3.title = 'Stacked Chart'\n",
    "\n",
    "ws.add_chart(chart3, \"A27\")\n",
    "\n",
    "\n",
    "chart4 = deepcopy(chart1)\n",
    "chart4.type = \"bar\"\n",
    "chart4.style = 13\n",
    "chart4.grouping = \"percentStacked\"\n",
    "chart4.overlap = 100\n",
    "chart4.title = 'Percent Stacked Chart'\n",
    "\n",
    "ws.add_chart(chart4, \"G27\")\n",
    "\n",
    "wb.save(\"bar.xlsx\")\n"
   ]
  },
  {
   "cell_type": "markdown",
   "metadata": {},
   "source": [
    "This will produce four charts illustrating the various possibilities.\n",
    "\n",
    "\n",
    "## 3D Bar Charts\n",
    "\n",
    "You can also create 3D bar charts"
   ]
  },
  {
   "cell_type": "code",
   "execution_count": 2,
   "metadata": {},
   "outputs": [],
   "source": [
    "# %load 'bar3d.py'\n",
    "from openpyxl import Workbook\n",
    "from openpyxl.chart import (\n",
    "    Reference,\n",
    "    Series,\n",
    "    BarChart3D,\n",
    ")\n",
    "\n",
    "wb = Workbook()\n",
    "ws = wb.active\n",
    "\n",
    "rows = [\n",
    "    (None, 2013, 2014),\n",
    "    (\"Apples\", 5, 4),\n",
    "    (\"Oranges\", 6, 2),\n",
    "    (\"Pears\", 8, 3)\n",
    "]\n",
    "\n",
    "for row in rows:\n",
    "    ws.append(row)\n",
    "\n",
    "data = Reference(ws, min_col=2, min_row=1, max_col=3, max_row=4)\n",
    "titles = Reference(ws, min_col=1, min_row=2, max_row=4)\n",
    "chart = BarChart3D()\n",
    "chart.title = \"3D Bar Chart\"\n",
    "chart.add_data(data=data, titles_from_data=True)\n",
    "chart.set_categories(titles)\n",
    "\n",
    "ws.add_chart(chart, \"E5\")\n",
    "wb.save(\"bar3d.xlsx\")\n"
   ]
  },
  {
   "cell_type": "markdown",
   "metadata": {},
   "source": [
    "This produces a simple 3D bar chart\n",
    "\n",
    "![](bar3D.png)"
   ]
  },
  {
   "cell_type": "markdown",
   "metadata": {},
   "source": [
    "---"
   ]
  }
 ],
 "metadata": {
  "kernelspec": {
   "display_name": "Python 3.10.4 64-bit",
   "language": "python",
   "name": "python3"
  },
  "language_info": {
   "codemirror_mode": {
    "name": "ipython",
    "version": 3
   },
   "file_extension": ".py",
   "mimetype": "text/x-python",
   "name": "python",
   "nbconvert_exporter": "python",
   "pygments_lexer": "ipython3",
   "version": "3.10.4"
  },
  "orig_nbformat": 4,
  "vscode": {
   "interpreter": {
    "hash": "949777d72b0d2535278d3dc13498b2535136f6dfe0678499012e853ee9abcab1"
   }
  }
 },
 "nbformat": 4,
 "nbformat_minor": 2
}
