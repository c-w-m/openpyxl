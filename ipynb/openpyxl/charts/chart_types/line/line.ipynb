{
 "cells": [
  {
   "cell_type": "markdown",
   "metadata": {},
   "source": [
    "# [Line Charts](https://openpyxl.readthedocs.io/en/stable/charts/line.html)\n",
    "\n",
    "\n",
    "## Line Charts\n",
    "\n",
    "Line charts allow data to be plotted against a fixed axis. They are similar\n",
    "to scatter charts, the main difference is that with line charts each data\n",
    "series is plotted against the same values. Different kinds of axes can be\n",
    "used for the secondary axes.\n",
    "\n",
    "Similar to bar charts there are three kinds of line charts: standard, stacked\n",
    "and percentStacked."
   ]
  },
  {
   "cell_type": "code",
   "execution_count": 1,
   "metadata": {},
   "outputs": [],
   "source": [
    "# %load 'line.py'\n",
    "from datetime import date\n",
    "\n",
    "from openpyxl import Workbook\n",
    "from openpyxl.chart import (\n",
    "    LineChart,\n",
    "    Reference,\n",
    ")\n",
    "from openpyxl.chart.axis import DateAxis\n",
    "\n",
    "wb = Workbook()\n",
    "ws = wb.active\n",
    "\n",
    "rows = [\n",
    "    ['Date', 'Batch 1', 'Batch 2', 'Batch 3'],\n",
    "    [date(2015,9, 1), 40, 30, 25],\n",
    "    [date(2015,9, 2), 40, 25, 30],\n",
    "    [date(2015,9, 3), 50, 30, 45],\n",
    "    [date(2015,9, 4), 30, 25, 40],\n",
    "    [date(2015,9, 5), 25, 35, 30],\n",
    "    [date(2015,9, 6), 20, 40, 35],\n",
    "]\n",
    "\n",
    "for row in rows:\n",
    "    ws.append(row)\n",
    "\n",
    "c1 = LineChart()\n",
    "c1.title = \"Line Chart\"\n",
    "c1.style = 13\n",
    "c1.y_axis.title = 'Size'\n",
    "c1.x_axis.title = 'Test Number'\n",
    "\n",
    "data = Reference(ws, min_col=2, min_row=1, max_col=4, max_row=7)\n",
    "c1.add_data(data, titles_from_data=True)\n",
    "\n",
    "# Style the lines\n",
    "s1 = c1.series[0]\n",
    "s1.marker.symbol = \"triangle\"\n",
    "s1.marker.graphicalProperties.solidFill = \"FF0000\" # Marker filling\n",
    "s1.marker.graphicalProperties.line.solidFill = \"FF0000\" # Marker outline\n",
    "\n",
    "s1.graphicalProperties.line.noFill = True\n",
    "\n",
    "s2 = c1.series[1]\n",
    "s2.graphicalProperties.line.solidFill = \"00AAAA\"\n",
    "s2.graphicalProperties.line.dashStyle = \"sysDot\"\n",
    "s2.graphicalProperties.line.width = 100050 # width in EMUs\n",
    "\n",
    "s2 = c1.series[2]\n",
    "s2.smooth = True # Make the line smooth\n",
    "\n",
    "ws.add_chart(c1, \"A10\")\n",
    "\n",
    "from copy import deepcopy\n",
    "stacked = deepcopy(c1)\n",
    "stacked.grouping = \"stacked\"\n",
    "stacked.title = \"Stacked Line Chart\"\n",
    "ws.add_chart(stacked, \"A27\")\n",
    "\n",
    "percent_stacked = deepcopy(c1)\n",
    "percent_stacked.grouping = \"percentStacked\"\n",
    "percent_stacked.title = \"Percent Stacked Line Chart\"\n",
    "ws.add_chart(percent_stacked, \"A44\")\n",
    "\n",
    "# Chart with date axis\n",
    "c2 = LineChart()\n",
    "c2.title = \"Date Axis\"\n",
    "c2.style = 12\n",
    "c2.y_axis.title = \"Size\"\n",
    "c2.y_axis.crossAx = 500\n",
    "c2.x_axis = DateAxis(crossAx=100)\n",
    "c2.x_axis.number_format = 'd-mmm'\n",
    "c2.x_axis.majorTimeUnit = \"days\"\n",
    "c2.x_axis.title = \"Date\"\n",
    "\n",
    "c2.add_data(data, titles_from_data=True)\n",
    "dates = Reference(ws, min_col=1, min_row=2, max_row=7)\n",
    "c2.set_categories(dates)\n",
    "\n",
    "ws.add_chart(c2, \"A61\")\n",
    "\n",
    "wb.save(\"line.xlsx\")\n"
   ]
  },
  {
   "cell_type": "markdown",
   "metadata": {},
   "source": [
    "\n",
    "![](line.png)\n"
   ]
  },
  {
   "cell_type": "markdown",
   "metadata": {},
   "source": [
    "## 3D Line Charts\n",
    "\n",
    "In 3D line charts the third axis is the same as the legend for the series."
   ]
  },
  {
   "cell_type": "code",
   "execution_count": 2,
   "metadata": {},
   "outputs": [],
   "source": [
    "# %load 'line3D.py'\n",
    "from datetime import date\n",
    "\n",
    "from openpyxl import Workbook\n",
    "from openpyxl.chart import (\n",
    "    LineChart3D,\n",
    "    Reference,\n",
    ")\n",
    "from openpyxl.chart.axis import DateAxis\n",
    "\n",
    "wb = Workbook()\n",
    "ws = wb.active\n",
    "\n",
    "rows = [\n",
    "    ['Date', 'Batch 1', 'Batch 2', 'Batch 3'],\n",
    "    [date(2015,9, 1), 40, 30, 25],\n",
    "    [date(2015,9, 2), 40, 25, 30],\n",
    "    [date(2015,9, 3), 50, 30, 45],\n",
    "    [date(2015,9, 4), 30, 25, 40],\n",
    "    [date(2015,9, 5), 25, 35, 30],\n",
    "    [date(2015,9, 6), 20, 40, 35],\n",
    "]\n",
    "\n",
    "for row in rows:\n",
    "    ws.append(row)\n",
    "\n",
    "c1 = LineChart3D()\n",
    "c1.title = \"3D Line Chart\"\n",
    "c1.legend = None\n",
    "c1.style = 15\n",
    "c1.y_axis.title = 'Size'\n",
    "c1.x_axis.title = 'Test Number'\n",
    "\n",
    "data = Reference(ws, min_col=2, min_row=1, max_col=4, max_row=7)\n",
    "c1.add_data(data, titles_from_data=True)\n",
    "\n",
    "ws.add_chart(c1, \"A10\")\n",
    "\n",
    "wb.save(\"line3D.xlsx\")\n"
   ]
  },
  {
   "cell_type": "markdown",
   "metadata": {},
   "source": [
    "![](line3D.png)"
   ]
  },
  {
   "cell_type": "markdown",
   "metadata": {},
   "source": [
    "---"
   ]
  }
 ],
 "metadata": {
  "kernelspec": {
   "display_name": "Python 3.10.4 64-bit",
   "language": "python",
   "name": "python3"
  },
  "language_info": {
   "codemirror_mode": {
    "name": "ipython",
    "version": 3
   },
   "file_extension": ".py",
   "mimetype": "text/x-python",
   "name": "python",
   "nbconvert_exporter": "python",
   "pygments_lexer": "ipython3",
   "version": "3.10.4"
  },
  "orig_nbformat": 4,
  "vscode": {
   "interpreter": {
    "hash": "949777d72b0d2535278d3dc13498b2535136f6dfe0678499012e853ee9abcab1"
   }
  }
 },
 "nbformat": 4,
 "nbformat_minor": 2
}
