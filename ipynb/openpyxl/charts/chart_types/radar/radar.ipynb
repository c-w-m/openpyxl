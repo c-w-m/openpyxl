{
 "cells": [
  {
   "cell_type": "markdown",
   "metadata": {},
   "source": [
    "## [Radar Charts](https://openpyxl.readthedocs.io/en/stable/charts/radar.html)\n",
    "\n",
    "Data that is arranged in columns or rows on a worksheet can be plotted in a\n",
    "radar chart. Radar charts compare the aggregate values of multiple data\n",
    "series. It is effectively a projection of an area chart on a circular x-axis.\n",
    "\n",
    "There are two types of radar chart: standard, where the area is marked with a\n",
    "line; and filled, where the whole area is filled. The additional\n",
    "type \"marker\" has no effect. If markers are desired these can be set for the\n",
    "relevant series."
   ]
  },
  {
   "cell_type": "code",
   "execution_count": 1,
   "metadata": {},
   "outputs": [],
   "source": [
    "# %load 'radar.py'\n",
    "from openpyxl import Workbook\n",
    "from openpyxl.chart import (\n",
    "    RadarChart,\n",
    "    Reference,\n",
    ")\n",
    "\n",
    "wb = Workbook()\n",
    "ws = wb.active\n",
    "\n",
    "rows = [\n",
    "    ['Month', \"Bulbs\", \"Seeds\", \"Flowers\", \"Trees & shrubs\"],\n",
    "    ['Jan', 0, 2500, 500, 0,],\n",
    "    ['Feb', 0, 5500, 750, 1500],\n",
    "    ['Mar', 0, 9000, 1500, 2500],\n",
    "    ['Apr', 0, 6500, 2000, 4000],\n",
    "    ['May', 0, 3500, 5500, 3500],\n",
    "    ['Jun', 0, 0, 7500, 1500],\n",
    "    ['Jul', 0, 0, 8500, 800],\n",
    "    ['Aug', 1500, 0, 7000, 550],\n",
    "    ['Sep', 5000, 0, 3500, 2500],\n",
    "    ['Oct', 8500, 0, 2500, 6000],\n",
    "    ['Nov', 3500, 0, 500, 5500],\n",
    "    ['Dec', 500, 0, 100, 3000 ],\n",
    "]\n",
    "\n",
    "for row in rows:\n",
    "    ws.append(row)\n",
    "\n",
    "chart = RadarChart()\n",
    "chart.type = \"filled\"\n",
    "labels = Reference(ws, min_col=1, min_row=2, max_row=13)\n",
    "data = Reference(ws, min_col=2, max_col=5, min_row=1, max_row=13)\n",
    "chart.add_data(data, titles_from_data=True)\n",
    "chart.set_categories(labels)\n",
    "chart.style = 26\n",
    "chart.title = \"Garden Centre Sales\"\n",
    "chart.y_axis.delete = True\n",
    "\n",
    "ws.add_chart(chart, \"A17\")\n",
    "\n",
    "wb.save(\"radar.xlsx\")\n"
   ]
  },
  {
   "cell_type": "markdown",
   "metadata": {},
   "source": [
    "![](radar.png)\n",
    "\n",
    "---"
   ]
  }
 ],
 "metadata": {
  "kernelspec": {
   "display_name": "Python 3.10.4 64-bit",
   "language": "python",
   "name": "python3"
  },
  "language_info": {
   "codemirror_mode": {
    "name": "ipython",
    "version": 3
   },
   "file_extension": ".py",
   "mimetype": "text/x-python",
   "name": "python",
   "nbconvert_exporter": "python",
   "pygments_lexer": "ipython3",
   "version": "3.10.4"
  },
  "orig_nbformat": 4,
  "vscode": {
   "interpreter": {
    "hash": "949777d72b0d2535278d3dc13498b2535136f6dfe0678499012e853ee9abcab1"
   }
  }
 },
 "nbformat": 4,
 "nbformat_minor": 2
}
