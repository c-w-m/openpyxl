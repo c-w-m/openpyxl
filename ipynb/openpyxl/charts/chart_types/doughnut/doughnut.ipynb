{
 "cells": [
  {
   "cell_type": "markdown",
   "metadata": {},
   "source": [
    "## [Doughnut Charts](https://openpyxl.readthedocs.io/en/stable/charts/doughnut.html)\n",
    "\n",
    "\n",
    "Doughnut charts are similar to pie charts except that they use a ring instead\n",
    "of a circle. They can also plot several series of data as concentric rings."
   ]
  },
  {
   "cell_type": "code",
   "execution_count": 1,
   "metadata": {},
   "outputs": [],
   "source": [
    "# %load 'doughnut.py'\n",
    "from openpyxl import Workbook\n",
    "\n",
    "from openpyxl.chart import (\n",
    "    DoughnutChart,\n",
    "    Reference,\n",
    "    Series,\n",
    ")\n",
    "from openpyxl.chart.series import DataPoint\n",
    "\n",
    "data = [\n",
    "    ['Pie', 2014, 2015],\n",
    "    ['Plain', 40, 50],\n",
    "    ['Jam', 2, 10],\n",
    "    ['Lime', 20, 30],\n",
    "    ['Chocolate', 30, 40],\n",
    "]\n",
    "\n",
    "wb = Workbook()\n",
    "ws = wb.active\n",
    "\n",
    "for row in data:\n",
    "    ws.append(row)\n",
    "\n",
    "chart = DoughnutChart()\n",
    "labels = Reference(ws, min_col=1, min_row=2, max_row=5)\n",
    "data = Reference(ws, min_col=2, min_row=1, max_row=5)\n",
    "chart.add_data(data, titles_from_data=True)\n",
    "chart.set_categories(labels)\n",
    "chart.title = \"Doughnuts sold by category\"\n",
    "chart.style = 26\n",
    "\n",
    "# Cut the first slice out of the doughnut\n",
    "slices = [DataPoint(idx=i) for i in range(4)]\n",
    "plain, jam, lime, chocolate = slices\n",
    "chart.series[0].data_points = slices\n",
    "plain.graphicalProperties.solidFill = \"FAE1D0\"\n",
    "jam.graphicalProperties.solidFill = \"BB2244\"\n",
    "lime.graphicalProperties.solidFill = \"22DD22\"\n",
    "chocolate.graphicalProperties.solidFill = \"61210B\"\n",
    "chocolate.explosion = 10\n",
    "\n",
    "ws.add_chart(chart, \"E1\")\n",
    "\n",
    "from copy import deepcopy\n",
    "\n",
    "chart2 = deepcopy(chart)\n",
    "chart2.title = None\n",
    "data = Reference(ws, min_col=3, min_row=1, max_row=5)\n",
    "series2 = Series(data, title_from_data=True)\n",
    "series2.data_points = slices\n",
    "chart2.series.append(series2)\n",
    "\n",
    "ws.add_chart(chart2, \"E17\")\n",
    "\n",
    "wb.save(\"doughnut.xlsx\")\n"
   ]
  },
  {
   "cell_type": "markdown",
   "metadata": {},
   "source": [
    "![](doughnut.png)"
   ]
  },
  {
   "cell_type": "markdown",
   "metadata": {},
   "source": [
    "---"
   ]
  }
 ],
 "metadata": {
  "kernelspec": {
   "display_name": "Python 3.10.4 64-bit",
   "language": "python",
   "name": "python3"
  },
  "language_info": {
   "codemirror_mode": {
    "name": "ipython",
    "version": 3
   },
   "file_extension": ".py",
   "mimetype": "text/x-python",
   "name": "python",
   "nbconvert_exporter": "python",
   "pygments_lexer": "ipython3",
   "version": "3.10.4"
  },
  "orig_nbformat": 4,
  "vscode": {
   "interpreter": {
    "hash": "949777d72b0d2535278d3dc13498b2535136f6dfe0678499012e853ee9abcab1"
   }
  }
 },
 "nbformat": 4,
 "nbformat_minor": 2
}
