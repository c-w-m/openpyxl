{
 "cells": [
  {
   "cell_type": "markdown",
   "metadata": {},
   "source": [
    "# [Bubble Charts](https://openpyxl.readthedocs.io/en/stable/charts/bubble.html)\n",
    "\n",
    "\n",
    "Bubble charts are similar to scatter charts but use a third dimension to determine the size of the bubbles.\n",
    "Charts can include multiple series."
   ]
  },
  {
   "cell_type": "code",
   "execution_count": 1,
   "metadata": {},
   "outputs": [],
   "source": [
    "# %load 'bubble.py'\n",
    "\"\"\"\n",
    "Sample bubble chart\n",
    "\"\"\"\n",
    "\n",
    "from openpyxl import Workbook\n",
    "from openpyxl.chart import Series, Reference, BubbleChart\n",
    "\n",
    "wb = Workbook()\n",
    "ws = wb.active\n",
    "\n",
    "rows = [\n",
    "    (\"Number of Products\", \"Sales in USD\", \"Market share\"),\n",
    "    (14, 12200, 15),\n",
    "    (20, 60000, 33),\n",
    "    (18, 24400, 10),\n",
    "    (22, 32000, 42),\n",
    "    (),\n",
    "    (12, 8200, 18),\n",
    "    (15, 50000, 30),\n",
    "    (19, 22400, 15),\n",
    "    (25, 25000, 50),\n",
    "]\n",
    "\n",
    "for row in rows:\n",
    "    ws.append(row)\n",
    "\n",
    "chart = BubbleChart()\n",
    "chart.style = 18 # use a preset style\n",
    "\n",
    "# add the first series of data\n",
    "xvalues = Reference(ws, min_col=1, min_row=2, max_row=5)\n",
    "yvalues = Reference(ws, min_col=2, min_row=2, max_row=5)\n",
    "size = Reference(ws, min_col=3, min_row=2, max_row=5)\n",
    "series = Series(values=yvalues, xvalues=xvalues, zvalues=size, title=\"2013\")\n",
    "chart.series.append(series)\n",
    "\n",
    "# add the second\n",
    "xvalues = Reference(ws, min_col=1, min_row=7, max_row=10)\n",
    "yvalues = Reference(ws, min_col=2, min_row=7, max_row=10)\n",
    "size = Reference(ws, min_col=3, min_row=7, max_row=10)\n",
    "series = Series(values=yvalues, xvalues=xvalues, zvalues=size, title=\"2014\")\n",
    "chart.series.append(series)\n",
    "\n",
    "# place the chart starting in cell E1\n",
    "ws.add_chart(chart, \"E1\")\n",
    "wb.save(\"bubble.xlsx\")\n"
   ]
  },
  {
   "cell_type": "markdown",
   "metadata": {},
   "source": [
    "This will produce a bubble chart with two series and should look something like this:\n",
    "\n",
    "![](bubble.png)"
   ]
  },
  {
   "cell_type": "markdown",
   "metadata": {},
   "source": [
    "---"
   ]
  }
 ],
 "metadata": {
  "kernelspec": {
   "display_name": "Python 3.10.4 64-bit",
   "language": "python",
   "name": "python3"
  },
  "language_info": {
   "codemirror_mode": {
    "name": "ipython",
    "version": 3
   },
   "file_extension": ".py",
   "mimetype": "text/x-python",
   "name": "python",
   "nbconvert_exporter": "python",
   "pygments_lexer": "ipython3",
   "version": "3.10.4"
  },
  "orig_nbformat": 4,
  "vscode": {
   "interpreter": {
    "hash": "949777d72b0d2535278d3dc13498b2535136f6dfe0678499012e853ee9abcab1"
   }
  }
 },
 "nbformat": 4,
 "nbformat_minor": 2
}
