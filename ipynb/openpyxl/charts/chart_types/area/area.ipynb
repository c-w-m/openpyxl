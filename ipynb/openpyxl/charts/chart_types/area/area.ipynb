{
 "cells": [
  {
   "cell_type": "markdown",
   "metadata": {},
   "source": [
    "# [Area Charts](https://openpyxl.readthedocs.io/en/stable/charts/area.html)\n",
    "\n",
    "\n",
    "2D Area Charts\n",
    "--------------\n",
    "\n",
    "Area charts are similar to line charts with the addition that the area underneath the plotted line is filled.\n",
    "Different variants are available by setting the grouping to \"standard\", \"stacked\" or \"percentStacked\"; \"standard\" is the default."
   ]
  },
  {
   "cell_type": "code",
   "execution_count": 1,
   "metadata": {},
   "outputs": [],
   "source": [
    "# %load 'area.py'\n",
    "from openpyxl import Workbook\n",
    "from openpyxl.chart import (\n",
    "    AreaChart,\n",
    "    Reference,\n",
    "    Series,\n",
    ")\n",
    "\n",
    "wb = Workbook()\n",
    "ws = wb.active\n",
    "\n",
    "rows = [\n",
    "    ['Number', 'Batch 1', 'Batch 2'],\n",
    "    [2, 40, 30],\n",
    "    [3, 40, 25],\n",
    "    [4, 50, 30],\n",
    "    [5, 30, 10],\n",
    "    [6, 25, 5],\n",
    "    [7, 50, 10],\n",
    "]\n",
    "\n",
    "for row in rows:\n",
    "    ws.append(row)\n",
    "\n",
    "chart = AreaChart()\n",
    "chart.title = \"Area Chart\"\n",
    "chart.style = 13\n",
    "chart.x_axis.title = 'Test'\n",
    "chart.y_axis.title = 'Percentage'\n",
    "\n",
    "cats = Reference(ws, min_col=1, min_row=1, max_row=7)\n",
    "data = Reference(ws, min_col=2, min_row=1, max_col=3, max_row=7)\n",
    "chart.add_data(data, titles_from_data=True)\n",
    "chart.set_categories(cats)\n",
    "\n",
    "ws.add_chart(chart, \"A10\")\n",
    "\n",
    "wb.save(\"area.xlsx\")\n"
   ]
  },
  {
   "cell_type": "markdown",
   "metadata": {},
   "source": [
    "![](area.png)"
   ]
  },
  {
   "cell_type": "markdown",
   "metadata": {},
   "source": [
    "## 3D Area Charts\n",
    "\n",
    "You can also create 3D area charts"
   ]
  },
  {
   "cell_type": "code",
   "execution_count": 2,
   "metadata": {},
   "outputs": [],
   "source": [
    "# %load 'area3d.py'\n",
    "from openpyxl import Workbook\n",
    "from openpyxl.chart import (\n",
    "    AreaChart3D,\n",
    "    Reference,\n",
    "    Series,\n",
    ")\n",
    "\n",
    "wb = Workbook()\n",
    "ws = wb.active\n",
    "\n",
    "rows = [\n",
    "    ['Number', 'Batch 1', 'Batch 2'],\n",
    "    [2, 30, 40],\n",
    "    [3, 25, 40],\n",
    "    [4 ,30, 50],\n",
    "    [5 ,10, 30],\n",
    "    [6,  5, 25],\n",
    "    [7 ,10, 50],\n",
    "]\n",
    "\n",
    "for row in rows:\n",
    "    ws.append(row)\n",
    "\n",
    "chart = AreaChart3D()\n",
    "chart.title = \"Area Chart\"\n",
    "chart.style = 13\n",
    "chart.x_axis.title = 'Test'\n",
    "chart.y_axis.title = 'Percentage'\n",
    "chart.legend = None\n",
    "\n",
    "cats = Reference(ws, min_col=1, min_row=1, max_row=7)\n",
    "data = Reference(ws, min_col=2, min_row=1, max_col=3, max_row=7)\n",
    "chart.add_data(data, titles_from_data=True)\n",
    "chart.set_categories(cats)\n",
    "\n",
    "ws.add_chart(chart, \"A10\")\n",
    "\n",
    "wb.save(\"area3D.xlsx\")\n"
   ]
  },
  {
   "cell_type": "markdown",
   "metadata": {},
   "source": [
    "This produces a simple 3D area chart where the third axis can be used to replace the legend:"
   ]
  },
  {
   "cell_type": "markdown",
   "metadata": {},
   "source": [
    "![](area3D.png)"
   ]
  },
  {
   "cell_type": "markdown",
   "metadata": {},
   "source": [
    "---"
   ]
  }
 ],
 "metadata": {
  "kernelspec": {
   "display_name": "Python 3.10.4 64-bit",
   "language": "python",
   "name": "python3"
  },
  "language_info": {
   "codemirror_mode": {
    "name": "ipython",
    "version": 3
   },
   "file_extension": ".py",
   "mimetype": "text/x-python",
   "name": "python",
   "nbconvert_exporter": "python",
   "pygments_lexer": "ipython3",
   "version": "3.10.4"
  },
  "orig_nbformat": 4,
  "vscode": {
   "interpreter": {
    "hash": "949777d72b0d2535278d3dc13498b2535136f6dfe0678499012e853ee9abcab1"
   }
  }
 },
 "nbformat": 4,
 "nbformat_minor": 2
}
