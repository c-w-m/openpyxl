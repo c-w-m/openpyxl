{
 "cells": [
  {
   "cell_type": "markdown",
   "metadata": {},
   "source": [
    "# [Changing the layout of plot area and legend](https://openpyxl.readthedocs.io/en/stable/charts/chart_layout.html)\n",
    "\n",
    "\n",
    "The layout of the chart within the canvas can be set by using the layout\n",
    "property of an instance of a layout class.\n",
    "\n",
    "\n",
    "## Chart layout\n",
    "\n",
    "### Size and position\n",
    "\n",
    "The chart can be positioned within its container. ``x`` and ``y`` adjust\n",
    "position, ``w`` and ``h`` adjust the size . The units are proportions of the\n",
    "container. A chart cannot be positioned outside of its container and the\n",
    "width and height are the dominant constraints: if x + w > 1, then x = 1 - w.\n",
    "\n",
    "| x is the horizontal position from the left\n",
    "| y is the vertical position from the top\n",
    "| h is the height of the chart relative to its container\n",
    "| w is the width of the box\n",
    "\n",
    "\n",
    "### Mode\n",
    "\n",
    "In addition to the size and position, the mode for the relevant attribute can\n",
    "also be set to either `factor` or `edge`. Factor is the default:"
   ]
  },
  {
   "cell_type": "code",
   "execution_count": null,
   "metadata": {},
   "outputs": [],
   "source": [
    "layout.xMode = edge"
   ]
  },
  {
   "cell_type": "markdown",
   "metadata": {},
   "source": [
    "### Target\n",
    "\n",
    "The layoutTarget can be set to ``outer`` or ``inner``. The default is ``outer``:"
   ]
  },
  {
   "cell_type": "code",
   "execution_count": null,
   "metadata": {},
   "outputs": [],
   "source": [
    "layout.layoutTarget = inner"
   ]
  },
  {
   "cell_type": "markdown",
   "metadata": {},
   "source": [
    "## Legend layout\n",
    "\n",
    "The position of the legend can be controlled either by setting its position:\n",
    "``r``, ``l``, ``t``, ``b``, and ``tr``, for right, left, top, bottom and top\n",
    "right respectively. The default is ``r``."
   ]
  },
  {
   "cell_type": "code",
   "execution_count": null,
   "metadata": {},
   "outputs": [],
   "source": [
    "legend.position = 'tr'"
   ]
  },
  {
   "cell_type": "markdown",
   "metadata": {},
   "source": [
    "or applying a manual layout:"
   ]
  },
  {
   "cell_type": "code",
   "execution_count": null,
   "metadata": {},
   "outputs": [],
   "source": [
    "legend.layout = ManualLayout()"
   ]
  },
  {
   "cell_type": "code",
   "execution_count": 1,
   "metadata": {},
   "outputs": [],
   "source": [
    "# %load 'chart_layout.py'\n",
    "from openpyxl import Workbook, load_workbook\n",
    "from openpyxl.chart import ScatterChart, Series, Reference\n",
    "from openpyxl.chart.layout import Layout, ManualLayout\n",
    "\n",
    "wb = Workbook()\n",
    "ws = wb.active\n",
    "\n",
    "rows = [\n",
    "    ['Size', 'Batch 1', 'Batch 2'],\n",
    "    [2, 40, 30],\n",
    "    [3, 40, 25],\n",
    "    [4, 50, 30],\n",
    "    [5, 30, 25],\n",
    "    [6, 25, 35],\n",
    "    [7, 20, 40],\n",
    "]\n",
    "\n",
    "for row in rows:\n",
    "    ws.append(row)\n",
    "\n",
    "ch1 = ScatterChart()\n",
    "xvalues = Reference(ws, min_col=1, min_row=2, max_row=7)\n",
    "for i in range(2, 4):\n",
    "    values = Reference(ws, min_col=i, min_row=1, max_row=7)\n",
    "    series = Series(values, xvalues, title_from_data=True)\n",
    "    ch1.series.append(series)\n",
    "\n",
    "\n",
    "ch1.title = \"Default layout\"\n",
    "ch1.style = 13\n",
    "ch1.x_axis.title = 'Size'\n",
    "ch1.y_axis.title = 'Percentage'\n",
    "ch1.legend.position = 'r'\n",
    "\n",
    "ws.add_chart(ch1, \"B10\")\n",
    "\n",
    "from copy import deepcopy\n",
    "\n",
    "# Half-size chart, bottom right\n",
    "ch2 = deepcopy(ch1)\n",
    "ch2.title = \"Manual chart layout\"\n",
    "ch2.legend.position = \"tr\"\n",
    "ch2.layout=Layout(\n",
    "    manualLayout=ManualLayout(\n",
    "        x=0.25, y=0.25,\n",
    "        h=0.5, w=0.5,\n",
    "    )\n",
    ")\n",
    "ws.add_chart(ch2, \"H10\")\n",
    "\n",
    "# Half-size chart, centred\n",
    "ch3 = deepcopy(ch1)\n",
    "ch3.layout = Layout(\n",
    "    ManualLayout(\n",
    "    x=0.25, y=0.25,\n",
    "    h=0.5, w=0.5,\n",
    "    xMode=\"edge\",\n",
    "    yMode=\"edge\",\n",
    "    )\n",
    ")\n",
    "ch3.title = \"Manual chart layout, edge mode\"\n",
    "ws.add_chart(ch3, \"B27\")\n",
    "\n",
    "# Manually position the legend bottom left\n",
    "ch4 = deepcopy(ch1)\n",
    "ch4.title = \"Manual legend layout\"\n",
    "ch4.legend.layout = Layout(\n",
    "    manualLayout=ManualLayout(\n",
    "        yMode='edge',\n",
    "        xMode='edge',\n",
    "        x=0, y=0.9,\n",
    "        h=0.1, w=0.5\n",
    "    )\n",
    ")\n",
    "\n",
    "ws.add_chart(ch4, \"H27\")\n",
    "\n",
    "wb.save(\"chart_layout.xlsx\")\n"
   ]
  },
  {
   "cell_type": "markdown",
   "metadata": {},
   "source": [
    "![](chart_layout.png)"
   ]
  },
  {
   "cell_type": "markdown",
   "metadata": {},
   "source": [
    "---"
   ]
  }
 ],
 "metadata": {
  "kernelspec": {
   "display_name": "Python 3.10.4 64-bit",
   "language": "python",
   "name": "python3"
  },
  "language_info": {
   "codemirror_mode": {
    "name": "ipython",
    "version": 3
   },
   "file_extension": ".py",
   "mimetype": "text/x-python",
   "name": "python",
   "nbconvert_exporter": "python",
   "pygments_lexer": "ipython3",
   "version": "3.10.4"
  },
  "orig_nbformat": 4,
  "vscode": {
   "interpreter": {
    "hash": "949777d72b0d2535278d3dc13498b2535136f6dfe0678499012e853ee9abcab1"
   }
  }
 },
 "nbformat": 4,
 "nbformat_minor": 2
}
