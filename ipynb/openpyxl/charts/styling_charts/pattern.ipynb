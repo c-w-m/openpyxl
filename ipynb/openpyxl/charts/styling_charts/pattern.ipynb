{
 "cells": [
  {
   "cell_type": "markdown",
   "metadata": {},
   "source": [
    "## [Adding Patterns](https://openpyxl.readthedocs.io/en/stable/charts/pattern.html)\n",
    "\n",
    "\n",
    "Whole data series and individual data points can be extensively styled through the `graphicalProperties`. Getting things just right may take some time."
   ]
  },
  {
   "cell_type": "code",
   "execution_count": 2,
   "metadata": {},
   "outputs": [],
   "source": [
    "# %load 'pattern.py'\n",
    "from openpyxl import Workbook\n",
    "from openpyxl.chart import BarChart, Reference\n",
    "from openpyxl.chart.marker import DataPoint\n",
    "\n",
    "from openpyxl.drawing.fill import PatternFillProperties, ColorChoice\n",
    "\n",
    "wb = Workbook()\n",
    "ws = wb.active\n",
    "\n",
    "rows = [\n",
    "    (\"Sample\",),\n",
    "    (1,),\n",
    "    (2,),\n",
    "    (3,),\n",
    "    (2,),\n",
    "    (3,),\n",
    "    (3,),\n",
    "    (1,),\n",
    "    (2,),\n",
    "]\n",
    "\n",
    "for r in rows:\n",
    "    ws.append(r)\n",
    "\n",
    "\n",
    "c = BarChart()\n",
    "data = Reference(ws, min_col=1, min_row=1, max_row=8)\n",
    "c.add_data(data, titles_from_data=True)\n",
    "c.title = \"Chart with patterns\"\n",
    "\n",
    "# set a pattern for the whole series\n",
    "series = c.series[0]\n",
    "fill =  PatternFillProperties(prst=\"pct5\")\n",
    "fill.foreground = ColorChoice(prstClr=\"red\")\n",
    "fill.background = ColorChoice(prstClr=\"blue\")\n",
    "series.graphicalProperties.pattFill = fill\n",
    "\n",
    "# set a pattern for a 6th data point (0-indexed)\n",
    "pt = DataPoint(idx=5)\n",
    "pt.graphicalProperties.pattFill = PatternFillProperties(prst=\"ltHorz\")\n",
    "series.dPt.append(pt)\n",
    "\n",
    "ws.add_chart(c, \"C1\")\n",
    "\n",
    "wb.save(\"pattern.xlsx\")\n"
   ]
  },
  {
   "cell_type": "markdown",
   "metadata": {},
   "source": [
    "![](pattern.png)\n",
    "\n",
    "---"
   ]
  }
 ],
 "metadata": {
  "kernelspec": {
   "display_name": "Python 3.10.4 64-bit",
   "language": "python",
   "name": "python3"
  },
  "language_info": {
   "codemirror_mode": {
    "name": "ipython",
    "version": 3
   },
   "file_extension": ".py",
   "mimetype": "text/x-python",
   "name": "python",
   "nbconvert_exporter": "python",
   "pygments_lexer": "ipython3",
   "version": "3.10.4"
  },
  "orig_nbformat": 4,
  "vscode": {
   "interpreter": {
    "hash": "949777d72b0d2535278d3dc13498b2535136f6dfe0678499012e853ee9abcab1"
   }
  }
 },
 "nbformat": 4,
 "nbformat_minor": 2
}
