{
 "cells": [
  {
   "cell_type": "markdown",
   "metadata": {},
   "source": [
    "# [Adding a second axis](https://openpyxl.readthedocs.io/en/stable/charts/secondary.html)\n",
    "\n",
    "\n",
    "Adding a second axis actually involves creating a second chart that shares a\n",
    "common x-axis with the first chart but has a separate y-axis."
   ]
  },
  {
   "cell_type": "code",
   "execution_count": 1,
   "metadata": {},
   "outputs": [],
   "source": [
    "# %load 'secondary.py'\n",
    "from openpyxl import Workbook\n",
    "from openpyxl.chart import (\n",
    "    LineChart,\n",
    "    BarChart,\n",
    "    Reference,\n",
    "    Series,\n",
    ")\n",
    "\n",
    "wb = Workbook()\n",
    "ws = wb.active\n",
    "\n",
    "rows = [\n",
    "    ['Aliens', 2, 3, 4, 5, 6, 7],\n",
    "    ['Humans', 10, 40, 50, 20, 10, 50],\n",
    "]\n",
    "\n",
    "for row in rows:\n",
    "    ws.append(row)\n",
    "\n",
    "c1 = BarChart()\n",
    "v1 = Reference(ws, min_col=1, min_row=1, max_col=7)\n",
    "c1.add_data(v1, titles_from_data=True, from_rows=True)\n",
    "\n",
    "c1.x_axis.title = 'Days'\n",
    "c1.y_axis.title = 'Aliens'\n",
    "c1.y_axis.majorGridlines = None\n",
    "c1.title = 'Survey results'\n",
    "\n",
    "\n",
    "# Create a second chart\n",
    "c2 = LineChart()\n",
    "v2 = Reference(ws, min_col=1, min_row=2, max_col=7)\n",
    "c2.add_data(v2, titles_from_data=True, from_rows=True)\n",
    "c2.y_axis.axId = 200\n",
    "c2.y_axis.title = \"Humans\"\n",
    "\n",
    "# Display y-axis of the second chart on the right by setting it to cross the x-axis at its maximum\n",
    "c1.y_axis.crosses = \"max\"\n",
    "c1 += c2\n",
    "\n",
    "ws.add_chart(c1, \"D4\")\n",
    "\n",
    "wb.save(\"secondary.xlsx\")\n"
   ]
  },
  {
   "cell_type": "markdown",
   "metadata": {},
   "source": [
    "This produces a combined line and bar chart looking something like this:\n",
    "\n",
    "![](secondary.png)\n",
    "\n",
    "---"
   ]
  }
 ],
 "metadata": {
  "kernelspec": {
   "display_name": "Python 3.10.4 64-bit",
   "language": "python",
   "name": "python3"
  },
  "language_info": {
   "codemirror_mode": {
    "name": "ipython",
    "version": 3
   },
   "file_extension": ".py",
   "mimetype": "text/x-python",
   "name": "python",
   "nbconvert_exporter": "python",
   "pygments_lexer": "ipython3",
   "version": "3.10.4"
  },
  "orig_nbformat": 4,
  "vscode": {
   "interpreter": {
    "hash": "949777d72b0d2535278d3dc13498b2535136f6dfe0678499012e853ee9abcab1"
   }
  }
 },
 "nbformat": 4,
 "nbformat_minor": 2
}
