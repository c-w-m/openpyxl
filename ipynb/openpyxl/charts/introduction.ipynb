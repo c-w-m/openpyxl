{
 "cells": [
  {
   "cell_type": "markdown",
   "metadata": {},
   "source": [
    "# [Charts](https://openpyxl.readthedocs.io/en/latest/charts/introduction.html)\n",
    "\n",
    "\n",
    "## Chart types\n",
    "\n",
    "The following charts are available:\n",
    "\n",
    "* [Area Charts](https://openpyxl.readthedocs.io/en/latest/charts/area.html)\n",
    "  * 2D Area Charts\n",
    "  * 3D Area Charts\n",
    "* Bar and Column Charts\n",
    "  * Vertical, Horizontal and Stacked Bar Charts\n",
    "  * 3D Bar Charts\n",
    "* Bubble Charts\n",
    "* Line Charts\n",
    "  * Line Charts\n",
    "  * 3D Line Charts\n",
    "* Scatter Charts\n",
    "* Pie Charts\n",
    "  * Pie Charts\n",
    "  * Projected Pie Charts\n",
    "  * 3D Pie Charts\n",
    "  * Gradient Pie Charts\n",
    "* Doughnut Charts\n",
    "* Radar Charts\n",
    "* Stock Charts\n",
    "* Surface charts\n",
    "\n",
    "\n",
    "## Creating a chart\n",
    "\n",
    "Charts are composed of at least one series of one or more data points. Series\n",
    "themselves are comprised of references to cell ranges."
   ]
  },
  {
   "cell_type": "code",
   "execution_count": 1,
   "metadata": {},
   "outputs": [],
   "source": [
    "from openpyxl import Workbook\n",
    "\n",
    "wb = Workbook()\n",
    "ws = wb.active\n",
    "\n",
    "for i in range(10):\n",
    "    ws.append([i])"
   ]
  },
  {
   "cell_type": "code",
   "execution_count": 2,
   "metadata": {},
   "outputs": [],
   "source": [
    "from openpyxl.chart import BarChart, Reference, Series\n",
    "\n",
    "values = Reference(ws, min_col=1, min_row=1, max_col=1, max_row=10)\n",
    "chart = BarChart()\n",
    "chart.add_data(values)\n",
    "ws.add_chart(chart, \"E15\")\n",
    "wb.save(\"SampleChart.xlsx\")"
   ]
  },
  {
   "cell_type": "markdown",
   "metadata": {},
   "source": [
    "By default the top-left corner of a chart is anchored to cell E15 and the\n",
    "size is 15 x 7.5 cm (approximately 5 columns by 14 rows). This can be changed\n",
    "by setting the `anchor`, `width` and `height` properties of the chart. The\n",
    "actual size will depend on operating system and device. Other anchors are\n",
    "possible; see `openpyxl.drawing.spreadsheet_drawing` for further information.\n",
    "\n",
    "\n",
    "## Working with axes\n",
    "\n",
    "* Working with axes\n",
    "  * Axis Limits and Scale\n",
    "  * Minima and Maxima\n",
    "  * Logarithmic Scaling\n",
    "  * Axis Orientation\n",
    "* Adding a second axis\n",
    "\n",
    "\n",
    "## Change the chart layout\n",
    "\n",
    "* Changing the layout of plot area and legend\n",
    "  * Chart layout\n",
    "    * Size and position\n",
    "    * Mode\n",
    "    * Target\n",
    "  * Legend layout\n",
    "\n",
    "\n",
    "## Styling charts\n",
    "\n",
    "* Adding Patterns\n",
    "\n",
    "\n",
    "## Advanced charts\n",
    "\n",
    "Charts can be combined to create new charts:\n",
    " \n",
    "* Gauge Charts\n",
    "\n",
    "\n",
    "## Using chartsheets\n",
    "\n",
    "Charts can be added to special worksheets called chartsheets:\n",
    "\n",
    "* Chartsheets\n",
    "\n",
    "---"
   ]
  }
 ],
 "metadata": {
  "kernelspec": {
   "display_name": "Python 3.10.4 64-bit",
   "language": "python",
   "name": "python3"
  },
  "language_info": {
   "codemirror_mode": {
    "name": "ipython",
    "version": 3
   },
   "file_extension": ".py",
   "mimetype": "text/x-python",
   "name": "python",
   "nbconvert_exporter": "python",
   "pygments_lexer": "ipython3",
   "version": "3.10.4"
  },
  "orig_nbformat": 4,
  "vscode": {
   "interpreter": {
    "hash": "949777d72b0d2535278d3dc13498b2535136f6dfe0678499012e853ee9abcab1"
   }
  }
 },
 "nbformat": 4,
 "nbformat_minor": 2
}
