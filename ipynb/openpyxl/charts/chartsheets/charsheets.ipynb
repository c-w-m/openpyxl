{
 "cells": [
  {
   "cell_type": "markdown",
   "metadata": {},
   "source": [
    "# [Chartsheets](https://openpyxl.readthedocs.io/en/stable/charts/chartsheet.html)\n",
    "\n",
    "\n",
    "Chartsheets are special worksheets which only contain charts. All the data\n",
    "for the chart must be on a different worksheet."
   ]
  },
  {
   "cell_type": "code",
   "execution_count": 3,
   "metadata": {},
   "outputs": [],
   "source": [
    "# %load 'chartsheet.py'\n",
    "from openpyxl import Workbook\n",
    "\n",
    "from openpyxl.chart import PieChart, Reference, Series\n",
    "\n",
    "wb = Workbook()\n",
    "ws = wb.active\n",
    "cs = wb.create_chartsheet()\n",
    "\n",
    "rows = [\n",
    "    [\"Bob\", 3],\n",
    "    [\"Harry\", 2],\n",
    "    [\"James\", 4],\n",
    "]\n",
    "\n",
    "for row in rows:\n",
    "    ws.append(row)\n",
    "\n",
    "\n",
    "chart = PieChart()\n",
    "labels = Reference(ws, min_col=1, min_row=1, max_row=3)\n",
    "data = Reference(ws, min_col=2, min_row=1, max_row=3)\n",
    "chart.series = (Series(data),)\n",
    "chart.title = \"PieChart\"\n",
    "\n",
    "cs.add_chart(chart)\n",
    "\n",
    "wb.save(\"demo.xlsx\")\n"
   ]
  },
  {
   "cell_type": "markdown",
   "metadata": {},
   "source": [
    "\n",
    "![](chartsheet.png)\n",
    "\n",
    "---"
   ]
  }
 ],
 "metadata": {
  "kernelspec": {
   "display_name": "Python 3.10.4 64-bit",
   "language": "python",
   "name": "python3"
  },
  "language_info": {
   "codemirror_mode": {
    "name": "ipython",
    "version": 3
   },
   "file_extension": ".py",
   "mimetype": "text/x-python",
   "name": "python",
   "nbconvert_exporter": "python",
   "pygments_lexer": "ipython3",
   "version": "3.10.4"
  },
  "orig_nbformat": 4,
  "vscode": {
   "interpreter": {
    "hash": "949777d72b0d2535278d3dc13498b2535136f6dfe0678499012e853ee9abcab1"
   }
  }
 },
 "nbformat": 4,
 "nbformat_minor": 2
}
