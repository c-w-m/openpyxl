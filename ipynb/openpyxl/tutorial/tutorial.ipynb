{
 "cells": [
  {
   "cell_type": "markdown",
   "metadata": {},
   "source": [
    "# [Tutorial](https://openpyxl.readthedocs.io/en/latest/tutorial.html)\n",
    "\n",
    "## Create a workbook\n",
    "\n",
    "There is no need to create a file on the filesystem to get started with openpyxl.\n",
    "Just import the `Workbook` class and start work:"
   ]
  },
  {
   "cell_type": "code",
   "execution_count": 1,
   "metadata": {},
   "outputs": [],
   "source": [
    "from openpyxl import Workbook\n",
    "wb = Workbook()"
   ]
  },
  {
   "cell_type": "markdown",
   "metadata": {},
   "source": [
    "A workbook is always created with at least one worksheet. You can get it by\n",
    "using the `Workbook.active` property:"
   ]
  },
  {
   "cell_type": "code",
   "execution_count": 2,
   "metadata": {},
   "outputs": [],
   "source": [
    "ws = wb.active"
   ]
  },
  {
   "cell_type": "markdown",
   "metadata": {},
   "source": [
    "> Note:\n",
    "> \n",
    "> This is set to 0 by default. Unless you modify its value, you will always\n",
    "> get the first worksheet by using this method.\n",
    "\n",
    "You can create new worksheets using the `Workbook.create_sheet` method:"
   ]
  },
  {
   "cell_type": "code",
   "execution_count": 3,
   "metadata": {},
   "outputs": [],
   "source": [
    "ws1 = wb.create_sheet(\"Mysheet\") # insert at the end (default)\n",
    "\n",
    "# or\n",
    "ws2 = wb.create_sheet(\"Mysheet\", 0) # insert at first position\n",
    "\n",
    "# or\n",
    "ws3 = wb.create_sheet(\"Mysheet\", -1) # insert at the penultimate position"
   ]
  },
  {
   "cell_type": "markdown",
   "metadata": {},
   "source": [
    "Sheets are given a name automatically when they are created.\n",
    "They are numbered in sequence (Sheet, Sheet1, Sheet2, ...).\n",
    "You can change this name at any time with the `Worksheet.title` property:"
   ]
  },
  {
   "cell_type": "code",
   "execution_count": 4,
   "metadata": {},
   "outputs": [],
   "source": [
    "ws.title = \"New Title\""
   ]
  },
  {
   "cell_type": "markdown",
   "metadata": {},
   "source": [
    "The background color of the tab holding this title is white by default.\n",
    "You can change this providing an `RRGGBB` color code to the\n",
    "`Worksheet.sheet_properties.tabColor` attribute:"
   ]
  },
  {
   "cell_type": "code",
   "execution_count": 5,
   "metadata": {},
   "outputs": [],
   "source": [
    "ws.sheet_properties.tabColor = \"1072BA\""
   ]
  },
  {
   "cell_type": "markdown",
   "metadata": {},
   "source": [
    "Once you gave a worksheet a name, you can get it as a key of the workbook:"
   ]
  },
  {
   "cell_type": "code",
   "execution_count": 6,
   "metadata": {},
   "outputs": [],
   "source": [
    "ws3 = wb[\"New Title\"]"
   ]
  },
  {
   "cell_type": "markdown",
   "metadata": {},
   "source": [
    "You can review the names of all worksheets of the workbook with the\n",
    "`Workbook.sheetname` attribute :"
   ]
  },
  {
   "cell_type": "code",
   "execution_count": 7,
   "metadata": {},
   "outputs": [
    {
     "name": "stdout",
     "output_type": "stream",
     "text": [
      "['Mysheet1', 'New Title', 'Mysheet2', 'Mysheet']\n"
     ]
    }
   ],
   "source": [
    "print(wb.sheetnames)"
   ]
  },
  {
   "cell_type": "markdown",
   "metadata": {},
   "source": [
    "You can loop through worksheets:"
   ]
  },
  {
   "cell_type": "code",
   "execution_count": 8,
   "metadata": {},
   "outputs": [
    {
     "name": "stdout",
     "output_type": "stream",
     "text": [
      "Mysheet1\n",
      "New Title\n",
      "Mysheet2\n",
      "Mysheet\n"
     ]
    }
   ],
   "source": [
    "for sheet in wb:\n",
    "    # ...\n",
    "    print(sheet.title)"
   ]
  },
  {
   "cell_type": "markdown",
   "metadata": {},
   "source": [
    "You can create copies of worksheets **within a single workbook**:\n",
    "\n",
    "`Workbook.copy_worksheet` method::"
   ]
  },
  {
   "cell_type": "code",
   "execution_count": 9,
   "metadata": {},
   "outputs": [],
   "source": [
    "source = wb.active\n",
    "target = wb.copy_worksheet(source)"
   ]
  },
  {
   "cell_type": "markdown",
   "metadata": {},
   "source": [
    "> Note:\n",
    "> \n",
    ">   Only cells (including values, styles, hyperlinks and comments) and\n",
    ">   certain worksheet attribues (including dimensions, format and\n",
    ">   properties) are copied. All other workbook / worksheet attributes\n",
    ">   are not copied - e.g. Images, Charts.\n",
    ">\n",
    ">   You also **cannot** copy worksheets between workbooks. You cannot copy\n",
    ">   a worksheet if the workbook is open in `read-only` or `write-only`\n",
    ">   mode.\n",
    "\n",
    "\n",
    "## Playing with data\n",
    "\n",
    "### Accessing one cell\n",
    "\n",
    "Now we know how to get a worksheet, we can start modifying cells content.\n",
    "Cells can be accessed directly as keys of the worksheet:"
   ]
  },
  {
   "cell_type": "code",
   "execution_count": 10,
   "metadata": {},
   "outputs": [],
   "source": [
    "c = ws['A4']"
   ]
  },
  {
   "cell_type": "markdown",
   "metadata": {},
   "source": [
    "This will return the cell at A4, or create one if it does not exist yet.\n",
    "Values can be directly assigned:"
   ]
  },
  {
   "cell_type": "code",
   "execution_count": 11,
   "metadata": {},
   "outputs": [],
   "source": [
    "ws['A4'] = 4"
   ]
  },
  {
   "cell_type": "markdown",
   "metadata": {},
   "source": [
    "There is also the `Worksheet.cell` method.\n",
    "\n",
    "This provides access to cells using row and column notation:"
   ]
  },
  {
   "cell_type": "code",
   "execution_count": 12,
   "metadata": {},
   "outputs": [],
   "source": [
    "d = ws.cell(row=4, column=2, value=10)"
   ]
  },
  {
   "cell_type": "markdown",
   "metadata": {},
   "source": [
    "> Note:\n",
    "> \n",
    ">   When a worksheet is created in memory, it contains no `cells`. They are\n",
    ">   created when first accessed.\n",
    "\n",
    "> Warning:\n",
    ">\n",
    ">   Because of this feature, scrolling through cells instead of accessing them\n",
    ">   directly will create them all in memory, even if you don't assign them a value.\n",
    ">\n",
    ">   Something like ::\n",
    ">\n",
    ">        >>> for x in range(1,101):\n",
    ">        ...     for y in range(1,101):\n",
    ">        ...         ws.cell(row=x, column=y)\n",
    ">\n",
    ">    will create 100x100 cells in memory, for nothing.\n",
    "\n",
    "\n",
    "### Accessing many cells\n",
    "\n",
    "Ranges of cells can be accessed using slicing::"
   ]
  },
  {
   "cell_type": "code",
   "execution_count": 13,
   "metadata": {},
   "outputs": [],
   "source": [
    "cell_range = ws['A1':'C2']"
   ]
  },
  {
   "cell_type": "markdown",
   "metadata": {},
   "source": [
    "Ranges of rows or columns can be obtained similarly:"
   ]
  },
  {
   "cell_type": "code",
   "execution_count": 14,
   "metadata": {},
   "outputs": [],
   "source": [
    "colC = ws['C']\n",
    "col_range = ws['C:D']\n",
    "row10 = ws[10]\n",
    "row_range = ws[5:10]"
   ]
  },
  {
   "cell_type": "markdown",
   "metadata": {},
   "source": [
    "You can also use the `Worksheet.iter_rows` method:"
   ]
  },
  {
   "cell_type": "code",
   "execution_count": 15,
   "metadata": {},
   "outputs": [
    {
     "name": "stdout",
     "output_type": "stream",
     "text": [
      "<Cell 'New Title'.A1>\n",
      "<Cell 'New Title'.B1>\n",
      "<Cell 'New Title'.C1>\n",
      "<Cell 'New Title'.A2>\n",
      "<Cell 'New Title'.B2>\n",
      "<Cell 'New Title'.C2>\n"
     ]
    }
   ],
   "source": [
    "for row in ws.iter_rows(min_row=1, max_col=3, max_row=2):\n",
    "   for cell in row:\n",
    "       print(cell)"
   ]
  },
  {
   "cell_type": "markdown",
   "metadata": {},
   "source": [
    "Likewise the `Worksheet.iter_cols` method will return columns:"
   ]
  },
  {
   "cell_type": "code",
   "execution_count": 16,
   "metadata": {},
   "outputs": [
    {
     "name": "stdout",
     "output_type": "stream",
     "text": [
      "<Cell 'New Title'.A1>\n",
      "<Cell 'New Title'.A2>\n",
      "<Cell 'New Title'.B1>\n",
      "<Cell 'New Title'.B2>\n",
      "<Cell 'New Title'.C1>\n",
      "<Cell 'New Title'.C2>\n"
     ]
    }
   ],
   "source": [
    "for col in ws.iter_cols(min_row=1, max_col=3, max_row=2):\n",
    "    for cell in col:\n",
    "        print(cell)"
   ]
  },
  {
   "cell_type": "markdown",
   "metadata": {},
   "source": [
    "> Note:\n",
    ">\n",
    "> For performance reasons the `Worksheet.iter_cols()` method is not available in read-only mode.\n",
    "\n",
    "If you need to iterate through all the rows or columns of a file, you can instead use the\n",
    "`Worksheet.rows` property:"
   ]
  },
  {
   "cell_type": "code",
   "execution_count": 17,
   "metadata": {},
   "outputs": [
    {
     "data": {
      "text/plain": [
       "((<Cell 'Mysheet1'.A1>, <Cell 'Mysheet1'.B1>, <Cell 'Mysheet1'.C1>),\n",
       " (<Cell 'Mysheet1'.A2>, <Cell 'Mysheet1'.B2>, <Cell 'Mysheet1'.C2>),\n",
       " (<Cell 'Mysheet1'.A3>, <Cell 'Mysheet1'.B3>, <Cell 'Mysheet1'.C3>),\n",
       " (<Cell 'Mysheet1'.A4>, <Cell 'Mysheet1'.B4>, <Cell 'Mysheet1'.C4>),\n",
       " (<Cell 'Mysheet1'.A5>, <Cell 'Mysheet1'.B5>, <Cell 'Mysheet1'.C5>),\n",
       " (<Cell 'Mysheet1'.A6>, <Cell 'Mysheet1'.B6>, <Cell 'Mysheet1'.C6>),\n",
       " (<Cell 'Mysheet1'.A7>, <Cell 'Mysheet1'.B7>, <Cell 'Mysheet1'.C7>),\n",
       " (<Cell 'Mysheet1'.A8>, <Cell 'Mysheet1'.B8>, <Cell 'Mysheet1'.C8>),\n",
       " (<Cell 'Mysheet1'.A9>, <Cell 'Mysheet1'.B9>, <Cell 'Mysheet1'.C9>))"
      ]
     },
     "execution_count": 17,
     "metadata": {},
     "output_type": "execute_result"
    }
   ],
   "source": [
    "ws = wb.active\n",
    "ws['C9'] = 'hello world'\n",
    "tuple(ws.rows)"
   ]
  },
  {
   "cell_type": "markdown",
   "metadata": {},
   "source": [
    "or the `Worksheet.columns` property:"
   ]
  },
  {
   "cell_type": "code",
   "execution_count": 18,
   "metadata": {},
   "outputs": [
    {
     "data": {
      "text/plain": [
       "((<Cell 'Mysheet1'.A1>,\n",
       "  <Cell 'Mysheet1'.A2>,\n",
       "  <Cell 'Mysheet1'.A3>,\n",
       "  <Cell 'Mysheet1'.A4>,\n",
       "  <Cell 'Mysheet1'.A5>,\n",
       "  <Cell 'Mysheet1'.A6>,\n",
       "  <Cell 'Mysheet1'.A7>,\n",
       "  <Cell 'Mysheet1'.A8>,\n",
       "  <Cell 'Mysheet1'.A9>),\n",
       " (<Cell 'Mysheet1'.B1>,\n",
       "  <Cell 'Mysheet1'.B2>,\n",
       "  <Cell 'Mysheet1'.B3>,\n",
       "  <Cell 'Mysheet1'.B4>,\n",
       "  <Cell 'Mysheet1'.B5>,\n",
       "  <Cell 'Mysheet1'.B6>,\n",
       "  <Cell 'Mysheet1'.B7>,\n",
       "  <Cell 'Mysheet1'.B8>,\n",
       "  <Cell 'Mysheet1'.B9>),\n",
       " (<Cell 'Mysheet1'.C1>,\n",
       "  <Cell 'Mysheet1'.C2>,\n",
       "  <Cell 'Mysheet1'.C3>,\n",
       "  <Cell 'Mysheet1'.C4>,\n",
       "  <Cell 'Mysheet1'.C5>,\n",
       "  <Cell 'Mysheet1'.C6>,\n",
       "  <Cell 'Mysheet1'.C7>,\n",
       "  <Cell 'Mysheet1'.C8>,\n",
       "  <Cell 'Mysheet1'.C9>))"
      ]
     },
     "execution_count": 18,
     "metadata": {},
     "output_type": "execute_result"
    }
   ],
   "source": [
    "tuple(ws.columns)"
   ]
  },
  {
   "cell_type": "markdown",
   "metadata": {},
   "source": [
    "> Note:\n",
    ">\n",
    "> For performance reasons the `Worksheet.columns` property is not available in read-only mode.\n",
    "\n",
    "\n",
    "### Values only\n",
    "\n",
    "If you just want the values from a worksheet you can use the `Worksheet.values` property.\n",
    "This iterates over all the rows in a worksheet but returns just the cell values::"
   ]
  },
  {
   "cell_type": "code",
   "execution_count": 19,
   "metadata": {},
   "outputs": [
    {
     "name": "stdout",
     "output_type": "stream",
     "text": [
      "None\n",
      "None\n",
      "None\n",
      "None\n",
      "None\n",
      "None\n",
      "None\n",
      "None\n",
      "None\n",
      "None\n",
      "None\n",
      "None\n",
      "None\n",
      "None\n",
      "None\n",
      "None\n",
      "None\n",
      "None\n",
      "None\n",
      "None\n",
      "None\n",
      "None\n",
      "None\n",
      "None\n",
      "None\n",
      "None\n",
      "hello world\n"
     ]
    }
   ],
   "source": [
    "for row in ws.values:\n",
    "    for value in row:\n",
    "        print(value)"
   ]
  },
  {
   "cell_type": "markdown",
   "metadata": {},
   "source": [
    "Both `Worksheet.iter_rows` and `Worksheet.iter_cols` can\n",
    "take the `values_only` parameter to return just the cell's value:"
   ]
  },
  {
   "cell_type": "code",
   "execution_count": 20,
   "metadata": {},
   "outputs": [
    {
     "name": "stdout",
     "output_type": "stream",
     "text": [
      "(None, None, None)\n",
      "(None, None, None)\n"
     ]
    }
   ],
   "source": [
    "for row in ws.iter_rows(min_row=1, max_col=3, max_row=2, values_only=True):\n",
    "    print(row)"
   ]
  },
  {
   "cell_type": "markdown",
   "metadata": {},
   "source": [
    "## Data storage\n",
    "\n",
    "Once we have a :class:`Cell`, we can assign it a value:"
   ]
  },
  {
   "cell_type": "code",
   "execution_count": 21,
   "metadata": {},
   "outputs": [
    {
     "name": "stdout",
     "output_type": "stream",
     "text": [
      "hello, world\n"
     ]
    }
   ],
   "source": [
    "c.value = 'hello, world'\n",
    "print(c.value)"
   ]
  },
  {
   "cell_type": "code",
   "execution_count": 22,
   "metadata": {},
   "outputs": [
    {
     "name": "stdout",
     "output_type": "stream",
     "text": [
      "3.14\n"
     ]
    }
   ],
   "source": [
    "d.value = 3.14\n",
    "print(d.value)"
   ]
  },
  {
   "cell_type": "markdown",
   "metadata": {},
   "source": [
    "### Saving to a file\n",
    "\n",
    "The simplest and safest way to save a workbook is by using the\n",
    "`Workbook.save` method of the `Workbook` object::"
   ]
  },
  {
   "cell_type": "code",
   "execution_count": 23,
   "metadata": {},
   "outputs": [],
   "source": [
    "wb = Workbook()\n",
    "wb.save('balances.xlsx')"
   ]
  },
  {
   "cell_type": "markdown",
   "metadata": {},
   "source": [
    "> Warning:\n",
    ">\n",
    ">   This operation will overwrite existing files without warning.\n",
    "\n",
    "> Note:\n",
    ">\n",
    ">   The filename extension is not forced to be xlsx or xlsm, although you might have\n",
    ">   some trouble opening it directly with another application if you don't\n",
    ">   use an official extension.\n",
    ">\n",
    ">   As OOXML files are basically ZIP files, you can also  open it with your\n",
    ">   favourite ZIP archive manager.\n",
    "\n",
    "\n",
    "### Saving as a stream\n",
    "\n",
    "If you want to save the file to a stream, e.g. when using a web application\n",
    "such as Pyramid, Flask or Django then you can simply provide a\n",
    "`NamedTemporaryFile`::"
   ]
  },
  {
   "cell_type": "code",
   "execution_count": 24,
   "metadata": {},
   "outputs": [],
   "source": [
    "from tempfile import NamedTemporaryFile\n",
    "from openpyxl import Workbook, load_workbook\n",
    "wb = Workbook()\n",
    "with NamedTemporaryFile() as tmp:\n",
    "    wb.save(tmp.name)\n",
    "    tmp.seek(0)\n",
    "    stream = tmp.read()"
   ]
  },
  {
   "cell_type": "markdown",
   "metadata": {},
   "source": [
    "You can specify the attribute `template=True`, to save a workbook\n",
    "as a template:"
   ]
  },
  {
   "cell_type": "code",
   "execution_count": 25,
   "metadata": {},
   "outputs": [],
   "source": [
    "wb = load_workbook('document.xlsx')\n",
    "wb.template = True\n",
    "wb.save('document_template.xltx')"
   ]
  },
  {
   "cell_type": "markdown",
   "metadata": {},
   "source": [
    "or set this attribute to `False` (default), to save as a document:"
   ]
  },
  {
   "cell_type": "code",
   "execution_count": 29,
   "metadata": {},
   "outputs": [],
   "source": [
    "wb = load_workbook('document_template.xltx')\n",
    "wb.template = False\n",
    "wb.save('document.xlsx')"
   ]
  },
  {
   "cell_type": "markdown",
   "metadata": {},
   "source": [
    "> warning:\n",
    ">\n",
    ">   You should monitor the data attributes and document extensions\n",
    ">   for saving documents in the document templates and vice versa,\n",
    ">   otherwise the result table engine can not open the document.\n",
    "\n",
    "> Note:\n",
    ">\n",
    ">    The following will fail:\n",
    ">\n",
    ">    ```python\n",
    ">    >>> wb = load_workbook('document.xlsx')\n",
    ">    >>> # Need to save with the extension *.xlsx\n",
    ">    >>> wb.save('new_document.xlsm')\n",
    ">    >>> # MS Excel can't open the document\n",
    ">    >>>\n",
    ">    >>> # or\n",
    ">    >>>\n",
    ">    >>> # Need specify attribute keep_vba=True\n",
    ">    >>> wb = load_workbook('document.xlsm')\n",
    ">    >>> wb.save('new_document.xlsm')\n",
    ">    >>> # MS Excel will not open the document\n",
    ">    >>>\n",
    ">    >>> # or\n",
    ">    >>>\n",
    ">    >>> wb = load_workbook('document.xltm', keep_vba=True)\n",
    ">    >>> # If we need a template document, then we must specify extension as *.xltm.\n",
    ">    >>> wb.save('new_document.xlsm')\n",
    ">    >>> # MS Excel will not open the document\n",
    ">    ```\n",
    "\n",
    "\n",
    "## Loading from a file\n",
    "\n",
    "The same way as writing, you can use the `openpyxl.load_workbook` to\n",
    "open an existing workbook::"
   ]
  },
  {
   "cell_type": "code",
   "execution_count": 32,
   "metadata": {},
   "outputs": [
    {
     "name": "stdout",
     "output_type": "stream",
     "text": [
      "['Sheet1', 'Sheet2']\n"
     ]
    }
   ],
   "source": [
    "from openpyxl import load_workbook\n",
    "wb2 = load_workbook('test.xlsx')\n",
    "print(wb2.sheetnames)"
   ]
  },
  {
   "cell_type": "markdown",
   "metadata": {},
   "source": [
    "This ends the tutorial for now, you can proceed to the `usage` section\n",
    "\n",
    "---"
   ]
  }
 ],
 "metadata": {
  "kernelspec": {
   "display_name": "Python 3.10.4 64-bit",
   "language": "python",
   "name": "python3"
  },
  "language_info": {
   "codemirror_mode": {
    "name": "ipython",
    "version": 3
   },
   "file_extension": ".py",
   "mimetype": "text/x-python",
   "name": "python",
   "nbconvert_exporter": "python",
   "pygments_lexer": "ipython3",
   "version": "3.10.4"
  },
  "orig_nbformat": 4,
  "vscode": {
   "interpreter": {
    "hash": "949777d72b0d2535278d3dc13498b2535136f6dfe0678499012e853ee9abcab1"
   }
  }
 },
 "nbformat": 4,
 "nbformat_minor": 2
}
